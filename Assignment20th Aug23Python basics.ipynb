{
 "cells": [
  {
   "cell_type": "markdown",
   "id": "5569f04a-4845-444a-8d62-fa997d0b4c2b",
   "metadata": {},
   "source": [
    "# TOPIC: String Based Assignment Problem"
   ]
  },
  {
   "cell_type": "markdown",
   "id": "d15ce1c3-57f7-4631-804e-34802f4677f3",
   "metadata": {},
   "source": [
    "1. Write a program to reverse a string."
   ]
  },
  {
   "cell_type": "code",
   "execution_count": 2,
   "id": "a41ef9c7-c700-4af1-a718-cbda9c8dd9d2",
   "metadata": {},
   "outputs": [
    {
     "data": {
      "text/plain": [
       "'yad taerg a si yadot'"
      ]
     },
     "execution_count": 2,
     "metadata": {},
     "output_type": "execute_result"
    }
   ],
   "source": [
    "string1=\"today is a great day\"\n",
    "def rev_string(s):\n",
    "    return s[::-1]\n",
    "\n",
    "rev_string(string1)"
   ]
  },
  {
   "cell_type": "markdown",
   "id": "90d26597-8d3d-436b-84fc-e849188c8973",
   "metadata": {},
   "source": [
    "2. Check if a string is a palindrome."
   ]
  },
  {
   "cell_type": "code",
   "execution_count": 6,
   "id": "0c9ccdbc-598c-45a8-b118-aa6dd45a233a",
   "metadata": {},
   "outputs": [
    {
     "data": {
      "text/plain": [
       "'yes the given string is Palindrome'"
      ]
     },
     "execution_count": 6,
     "metadata": {},
     "output_type": "execute_result"
    }
   ],
   "source": [
    "string2= \"RaR\"\n",
    "def check_palindrome(s):\n",
    "    if s[::]==s[::-1]:\n",
    "        return \"yes the given string is Palindrome\"\n",
    "    else:\n",
    "        return \"No its not an palilndrome\"\n",
    "\n",
    "check_palindrome(string2)"
   ]
  },
  {
   "cell_type": "markdown",
   "id": "76bf7371-f59d-413d-a1e0-99472ddbfea9",
   "metadata": {},
   "source": [
    "3. Convert a string to uppercase."
   ]
  },
  {
   "cell_type": "code",
   "execution_count": 7,
   "id": "a6253031-16fb-4564-90b5-d76b6d8be55d",
   "metadata": {},
   "outputs": [
    {
     "data": {
      "text/plain": [
       "'GREAT POWER COMES WITH GREAT RESPONSIBILITIES'"
      ]
     },
     "execution_count": 7,
     "metadata": {},
     "output_type": "execute_result"
    }
   ],
   "source": [
    "string3= \"great power comes with great responsibilities\"\n",
    "\n",
    "def conv_to_upper(s):\n",
    "    return s.upper()\n",
    "\n",
    "conv_to_upper(string3)"
   ]
  },
  {
   "cell_type": "markdown",
   "id": "ef98cea8-2c47-41a8-b5ea-3076bdf57d71",
   "metadata": {},
   "source": [
    "4. Convert a string to lowercase."
   ]
  },
  {
   "cell_type": "code",
   "execution_count": 8,
   "id": "c15522e0-3964-4c83-9f37-647aac1d554f",
   "metadata": {},
   "outputs": [
    {
     "data": {
      "text/plain": [
       "'great power comes with great responsibilities'"
      ]
     },
     "execution_count": 8,
     "metadata": {},
     "output_type": "execute_result"
    }
   ],
   "source": [
    "string4= 'GREAT POWER COMES WITH GREAT RESPONSIBILITIES'\n",
    "def conv_to_lower(s):\n",
    "    return s.lower()\n",
    "\n",
    "conv_to_lower(string4)"
   ]
  },
  {
   "cell_type": "markdown",
   "id": "c3d78ac4-22aa-4fc5-8332-acadce0a57de",
   "metadata": {},
   "source": [
    "5. Count the number of vowels in a string."
   ]
  },
  {
   "cell_type": "code",
   "execution_count": 26,
   "id": "092c55be-6aef-49b9-ab2d-af07e20e0a37",
   "metadata": {},
   "outputs": [
    {
     "data": {
      "text/plain": [
       "('the count of vowel for given string is', 16)"
      ]
     },
     "execution_count": 26,
     "metadata": {},
     "output_type": "execute_result"
    }
   ],
   "source": [
    "string5=\"These are violations of the code of conduct\"\n",
    "def count_vowel(s):\n",
    "    s1=[]\n",
    "    a=\"a\",\"e\",\"i\",\"o\",\"u\",\"A\",\"E\",\"I\",\"O\",\"U\"\n",
    "    for i in s:\n",
    "        if i in a:\n",
    "            s1.append(i)\n",
    "    return \"the count of vowel for given string is\", len(s1)\n",
    "\n",
    "count_vowel(string5)\n",
    "    "
   ]
  },
  {
   "cell_type": "code",
   "execution_count": 24,
   "id": "141f3ee0-8cee-484e-b1fc-a135d6b79280",
   "metadata": {},
   "outputs": [
    {
     "data": {
      "text/plain": [
       "43"
      ]
     },
     "execution_count": 24,
     "metadata": {},
     "output_type": "execute_result"
    }
   ],
   "source": [
    "len(string5)"
   ]
  },
  {
   "cell_type": "markdown",
   "id": "20a81efc-040c-42b5-ae72-ef7daab1d5ec",
   "metadata": {},
   "source": [
    "6. Count the number of consonants in a string."
   ]
  },
  {
   "cell_type": "code",
   "execution_count": 27,
   "id": "7f2ee210-c6a8-4789-9ecc-9b0a5f79dfc1",
   "metadata": {},
   "outputs": [
    {
     "data": {
      "text/plain": [
       "('the count of consonant for given string is', 27)"
      ]
     },
     "execution_count": 27,
     "metadata": {},
     "output_type": "execute_result"
    }
   ],
   "source": [
    "string6=\"These are violations of the code of conduct\"\n",
    "def count_consonants(s):\n",
    "    s1=[]\n",
    "    a=\"a\",\"e\",\"i\",\"o\",\"u\",\"A\",\"E\",\"I\",\"O\",\"U\"\n",
    "    for i in s:\n",
    "        if i not in a:\n",
    "            s1.append(i)\n",
    "    return \"the count of consonant for given string is\", len(s1)\n",
    "\n",
    "count_consonants(string6)"
   ]
  },
  {
   "cell_type": "markdown",
   "id": "21e7712b-f787-4343-bf7e-6f1b9b2d5917",
   "metadata": {},
   "source": [
    "7. Remove all whitespaces from a string."
   ]
  },
  {
   "cell_type": "code",
   "execution_count": 33,
   "id": "8e6df71a-bcaa-41f7-bf0f-8b41c131ffb4",
   "metadata": {},
   "outputs": [
    {
     "data": {
      "text/plain": [
       "'Great'"
      ]
     },
     "execution_count": 33,
     "metadata": {},
     "output_type": "execute_result"
    }
   ],
   "source": [
    "string7=\"    Great   \"\n",
    "def remove_space(s):\n",
    "    return s.strip()\n",
    "\n",
    "remove_space(string7)"
   ]
  },
  {
   "cell_type": "markdown",
   "id": "d53040c9-9f37-4f78-a412-bf0fdfc87f8c",
   "metadata": {},
   "source": [
    "8. Find the length of a string without using the `len()` function."
   ]
  },
  {
   "cell_type": "code",
   "execution_count": 38,
   "id": "ee068d15-e259-42cc-870f-88c827d8574d",
   "metadata": {},
   "outputs": [
    {
     "name": "stdout",
     "output_type": "stream",
     "text": [
      "17\n"
     ]
    }
   ],
   "source": [
    "string8= \"I will learn soon\"\n",
    "count=0\n",
    "for i in string8:\n",
    "    count+=1\n",
    "print(count)"
   ]
  },
  {
   "cell_type": "markdown",
   "id": "27b757e6-979a-4cde-88b6-bf783199ab41",
   "metadata": {},
   "source": [
    "9. Check if a string contains a specific word."
   ]
  },
  {
   "cell_type": "code",
   "execution_count": 70,
   "id": "82f7f3bb-0e72-4f26-a182-6a355b47e362",
   "metadata": {},
   "outputs": [],
   "source": [
    "string9= \"journey begins with first step\"\n",
    "def check_word(s):\n",
    "    \"\"\"this function help to find specific word\"\"\"\n",
    "    s1=s.split(\" \")\n",
    "    a=input(\"type a word you want to search->\")\n",
    "    for i in s1:\n",
    "        i==a\n",
    "        return \"yes the given word->\",a,\" is available in string\"\n",
    "    return \"NO the given word->\",a,\"is not found\""
   ]
  },
  {
   "cell_type": "code",
   "execution_count": 71,
   "id": "c5aad66b-8f12-4c91-823e-f1798b2d5adb",
   "metadata": {},
   "outputs": [
    {
     "name": "stdin",
     "output_type": "stream",
     "text": [
      "type a word you want to search-> step\n"
     ]
    },
    {
     "data": {
      "text/plain": [
       "('yes the given word->', 'step', ' is available in string')"
      ]
     },
     "execution_count": 71,
     "metadata": {},
     "output_type": "execute_result"
    }
   ],
   "source": [
    "check_word(string9)"
   ]
  },
  {
   "cell_type": "markdown",
   "id": "6e1c0521-045f-4739-88ff-3877df6f55d5",
   "metadata": {},
   "source": [
    "10. Replace a word in a string with another word."
   ]
  },
  {
   "cell_type": "code",
   "execution_count": 26,
   "id": "8fba9140-d31e-4b84-b995-350a19b983f1",
   "metadata": {},
   "outputs": [],
   "source": [
    "string10= \"keep your work in good standing\"\n",
    "            "
   ]
  },
  {
   "cell_type": "code",
   "execution_count": 34,
   "id": "b9bb9323-1f30-4eee-bd86-ef3149975d95",
   "metadata": {},
   "outputs": [],
   "source": [
    "def Replace_word(s):\n",
    "    w=input('enter a word which you want to replace')\n",
    "    w1=input('enter a new word which you want to keep')\n",
    "    s1=s.replace(w,w1)\n",
    "    return s1"
   ]
  },
  {
   "cell_type": "code",
   "execution_count": 35,
   "id": "91bfc535-c4f0-4eed-872b-f6cf0605e69e",
   "metadata": {},
   "outputs": [
    {
     "name": "stdin",
     "output_type": "stream",
     "text": [
      "enter a word which you want to replace your\n",
      "enter a new word which you want to keep mine\n"
     ]
    },
    {
     "data": {
      "text/plain": [
       "'keep mine work in good standing'"
      ]
     },
     "execution_count": 35,
     "metadata": {},
     "output_type": "execute_result"
    }
   ],
   "source": [
    "Replace_word(string10)"
   ]
  },
  {
   "cell_type": "markdown",
   "id": "4be38a64-d96a-4f4a-b39a-4d2a4bbfaa0d",
   "metadata": {},
   "source": [
    "11. Count the occurrences of a word in a string.\n"
   ]
  },
  {
   "cell_type": "code",
   "execution_count": 92,
   "id": "cceec6bf-06ce-47bd-997f-34ad5f8110d3",
   "metadata": {},
   "outputs": [],
   "source": [
    "s2='my life my rules'\n",
    "def count_occur(s2,o):\n",
    "    count=0\n",
    "    new_s2=s2.split(' ')\n",
    "    for i in new_s2:\n",
    "        if i==o:\n",
    "            count+=1\n",
    "    print(count)"
   ]
  },
  {
   "cell_type": "code",
   "execution_count": 96,
   "id": "1fa4068c-d6e8-4928-ad69-c6ddd11483c5",
   "metadata": {},
   "outputs": [
    {
     "name": "stdout",
     "output_type": "stream",
     "text": [
      "2\n"
     ]
    }
   ],
   "source": [
    "count_occur(s2,'my')"
   ]
  },
  {
   "cell_type": "markdown",
   "id": "f0d23a31-8753-4b87-8475-17c136dea68f",
   "metadata": {},
   "source": [
    "12. Find the first occurrence of a word in a string."
   ]
  },
  {
   "cell_type": "code",
   "execution_count": 5,
   "id": "cd9c4971-75af-48e0-bbbd-269278fa64f4",
   "metadata": {},
   "outputs": [],
   "source": [
    "s3=\"my name is rohit\"\n",
    "def first_occur(s,p):\n",
    "    a= s.find(p)\n",
    "    if a >= 0:\n",
    "        return \"the first occurence of given word is at index-\", a\n",
    "    else:\n",
    "        return \" word not found\""
   ]
  },
  {
   "cell_type": "code",
   "execution_count": 9,
   "id": "f6e2ee10-b79f-470a-8c80-9dbd3757eb3e",
   "metadata": {},
   "outputs": [
    {
     "data": {
      "text/plain": [
       "('the first occurence of given word is at index-', 11)"
      ]
     },
     "execution_count": 9,
     "metadata": {},
     "output_type": "execute_result"
    }
   ],
   "source": [
    "first_occur(s3,'rohit')"
   ]
  },
  {
   "cell_type": "markdown",
   "id": "94ece1f2-702b-4c32-b946-5fb4f2cee2d8",
   "metadata": {},
   "source": [
    "13. Find the last occurrence of a word in a string.\n"
   ]
  },
  {
   "cell_type": "code",
   "execution_count": 15,
   "id": "43e07db6-38bc-45f4-afa6-0f64c1fd8938",
   "metadata": {},
   "outputs": [],
   "source": [
    "def Last_occur(s,w):\n",
    "    a=s.rfind(w)\n",
    "    if a>=0:\n",
    "        return \"The last occurrence of given word is at indext-\", a\n",
    "    else:\n",
    "        return \"word not found\""
   ]
  },
  {
   "cell_type": "code",
   "execution_count": 3,
   "id": "1f522314-735b-4408-92de-a667c175726f",
   "metadata": {},
   "outputs": [],
   "source": [
    "s4=\" the cricket is my faviourate game, and i love to play cricket\""
   ]
  },
  {
   "cell_type": "code",
   "execution_count": 53,
   "id": "9954437d-7966-4d44-9710-0a2d83e0af47",
   "metadata": {},
   "outputs": [
    {
     "data": {
      "text/plain": [
       "('The last occurrence of given word is at indext-', 55)"
      ]
     },
     "execution_count": 53,
     "metadata": {},
     "output_type": "execute_result"
    }
   ],
   "source": [
    "Last_occur(s4,\"cricket\")"
   ]
  },
  {
   "cell_type": "markdown",
   "id": "a0fbd20e-6552-4af8-a646-e427522b1f42",
   "metadata": {},
   "source": [
    "14. Split a string into a list of words.\n"
   ]
  },
  {
   "cell_type": "code",
   "execution_count": 13,
   "id": "778a4285-88d2-4dce-81fa-d66ed55891a9",
   "metadata": {},
   "outputs": [],
   "source": [
    "def split_str(s):\n",
    "    print( s.split())"
   ]
  },
  {
   "cell_type": "code",
   "execution_count": 14,
   "id": "521dfd3f-366a-4ef9-8469-2a28236e2d3e",
   "metadata": {},
   "outputs": [
    {
     "name": "stdout",
     "output_type": "stream",
     "text": [
      "['the', 'cricket', 'is', 'my', 'faviourate', 'game,', 'and', 'i', 'love', 'to', 'play', 'cricket']\n"
     ]
    }
   ],
   "source": [
    "split_str(s4)"
   ]
  },
  {
   "cell_type": "markdown",
   "id": "7803c6e6-fa01-4923-b9fe-11e8f2f9ce31",
   "metadata": {},
   "source": [
    "15. Join a list of words into a string."
   ]
  },
  {
   "cell_type": "code",
   "execution_count": 19,
   "id": "6cc0cbeb-198a-4947-99f6-072c77bd4f22",
   "metadata": {},
   "outputs": [],
   "source": [
    "a=['my','age','is','29']\n",
    "def join_to_str(s):\n",
    "    return ' '.join(s)"
   ]
  },
  {
   "cell_type": "code",
   "execution_count": 20,
   "id": "e8232bfc-632a-41d9-bb34-b0f436b55d30",
   "metadata": {},
   "outputs": [
    {
     "data": {
      "text/plain": [
       "'my age is 29'"
      ]
     },
     "execution_count": 20,
     "metadata": {},
     "output_type": "execute_result"
    }
   ],
   "source": [
    "join_to_str(a)"
   ]
  },
  {
   "cell_type": "markdown",
   "id": "93c81efc-902b-49e4-aa04-8b5fb00af370",
   "metadata": {},
   "source": [
    "16. Convert a string where words are separated by spaces to one where words\n",
    "are separated by underscores."
   ]
  },
  {
   "cell_type": "code",
   "execution_count": 14,
   "id": "6ceb7205-d917-4f55-98c3-40a4c1b3d524",
   "metadata": {},
   "outputs": [],
   "source": [
    "Str1= \"I will visit your office\"\n",
    "def Replace_space(s):\n",
    "    return s.replace(' ','_')"
   ]
  },
  {
   "cell_type": "code",
   "execution_count": 16,
   "id": "bf309cdf-fea7-4d52-bf58-537b6e87eb33",
   "metadata": {},
   "outputs": [
    {
     "data": {
      "text/plain": [
       "'I_will_visit_your_office'"
      ]
     },
     "execution_count": 16,
     "metadata": {},
     "output_type": "execute_result"
    }
   ],
   "source": [
    "Replace_space(Str1)"
   ]
  },
  {
   "cell_type": "markdown",
   "id": "966160d1-d48a-411a-a83e-8d8740f9fb10",
   "metadata": {},
   "source": [
    "17. Check if a string starts with a specific word or phrase."
   ]
  },
  {
   "cell_type": "code",
   "execution_count": 11,
   "id": "b87e6a88-7cdd-4414-b4fa-3e72e4d52dcd",
   "metadata": {},
   "outputs": [],
   "source": [
    "def Starts_with(s,Word):\n",
    "    New_s=s.split()\n",
    "    if New_s[0]==Word:\n",
    "        return \"yes the given string start with\", Word\n",
    "    else:\n",
    "        return \"No the given string does not start with\", Word"
   ]
  },
  {
   "cell_type": "code",
   "execution_count": 12,
   "id": "3a9c0cc3-51a1-4164-9f2a-86e6df7e175f",
   "metadata": {},
   "outputs": [
    {
     "data": {
      "text/plain": [
       "('yes the given string start with', 'My')"
      ]
     },
     "execution_count": 12,
     "metadata": {},
     "output_type": "execute_result"
    }
   ],
   "source": [
    "a= \"My Name is Rohit\"\n",
    "Starts_with(a,'My')"
   ]
  },
  {
   "cell_type": "markdown",
   "id": "577bc03e-c9ce-4b99-ab70-df3d3eda4a1b",
   "metadata": {},
   "source": [
    "18. Check if a string ends with a specific word or phrase."
   ]
  },
  {
   "cell_type": "code",
   "execution_count": 13,
   "id": "35d523b8-a407-4c24-b57d-2e4b8b1e0660",
   "metadata": {},
   "outputs": [],
   "source": [
    "s1=\"I love to watch cricket\"\n",
    "\n",
    "def Ends_with(string,word):\n",
    "    Newstring=string.split()\n",
    "    if Newstring[-1]==word:\n",
    "        return \"yes the string ends with\",word\n",
    "    else:\n",
    "        return \"No the string does not ends with\", word"
   ]
  },
  {
   "cell_type": "code",
   "execution_count": 16,
   "id": "faf53606-abc2-4a4f-a1cf-8c9ba9a5f5ee",
   "metadata": {},
   "outputs": [
    {
     "data": {
      "text/plain": [
       "('yes the string ends with', 'cricket')"
      ]
     },
     "execution_count": 16,
     "metadata": {},
     "output_type": "execute_result"
    }
   ],
   "source": [
    "Ends_with(s1,'cricket')"
   ]
  },
  {
   "cell_type": "markdown",
   "id": "b18a4319-baa0-411c-b1d3-95afaf8b3ee4",
   "metadata": {},
   "source": [
    "19. Convert a string to title case (e.g., \"hello world\" to \"Hello World\")."
   ]
  },
  {
   "cell_type": "code",
   "execution_count": 10,
   "id": "a7135fff-9d8e-42a8-80e4-856bae1bb9ae",
   "metadata": {},
   "outputs": [
    {
     "data": {
      "text/plain": [
       "'Hello World'"
      ]
     },
     "execution_count": 10,
     "metadata": {},
     "output_type": "execute_result"
    }
   ],
   "source": [
    "str1=\"hello world\"\n",
    "def Convert_title(string):\n",
    "    return string.title()\n",
    "\n",
    "Convert_title(str1)"
   ]
  },
  {
   "cell_type": "markdown",
   "id": "5a609f90-06e7-42a6-8320-e8887ee7c8b7",
   "metadata": {},
   "source": [
    "20. Find the longest word in a string."
   ]
  },
  {
   "cell_type": "code",
   "execution_count": 56,
   "id": "fb1b2a1e-ea54-4486-bcba-bff2b57ac9b3",
   "metadata": {},
   "outputs": [],
   "source": [
    "str2= \"You have to be very quick \"\n",
    "def find_longest_word(s):\n",
    "    new=s.split()\n",
    "    from functools import reduce\n",
    "    return \"The longest word in given string is-\", reduce(lambda a,b: a if len(a)>=len(b) else b, new)\n",
    "    \n",
    "    "
   ]
  },
  {
   "cell_type": "code",
   "execution_count": 47,
   "id": "4406c152-c5e0-4883-8059-1f1b3a791fb4",
   "metadata": {},
   "outputs": [
    {
     "data": {
      "text/plain": [
       "('The longest word in given string is-', 'quick')"
      ]
     },
     "execution_count": 47,
     "metadata": {},
     "output_type": "execute_result"
    }
   ],
   "source": [
    "find_longest_word(str2)"
   ]
  },
  {
   "cell_type": "markdown",
   "id": "e11635e7-4739-4b5a-9a9b-60365ae13c0e",
   "metadata": {},
   "source": [
    " 21. Find the shortest word in a string.\n"
   ]
  },
  {
   "cell_type": "code",
   "execution_count": 59,
   "id": "549a12bd-f374-4cc4-9078-de596f129b99",
   "metadata": {},
   "outputs": [],
   "source": [
    "str2= \"You have to be very quick\"\n",
    "def find_smallest_word(s):\n",
    "    n=s.split()\n",
    "    from functools import reduce\n",
    "    return \"The smallest word in given string is -\", reduce(lambda a,b: a if len(a)<=len(b) else b,n)"
   ]
  },
  {
   "cell_type": "code",
   "execution_count": 60,
   "id": "970d280b-b58a-4ff3-926f-6b0256db81ad",
   "metadata": {},
   "outputs": [
    {
     "data": {
      "text/plain": [
       "('The smallest word in given string is -', 'to')"
      ]
     },
     "execution_count": 60,
     "metadata": {},
     "output_type": "execute_result"
    }
   ],
   "source": [
    "find_smallest_word(str2)"
   ]
  },
  {
   "cell_type": "markdown",
   "id": "7c5e975f-d620-4edc-8279-0604392d73a4",
   "metadata": {},
   "source": [
    "22. Reverse the order of words in a string."
   ]
  },
  {
   "cell_type": "code",
   "execution_count": 96,
   "id": "2a86f706-2b4c-4066-8856-e7be2c1eaa6c",
   "metadata": {},
   "outputs": [],
   "source": [
    "a='my name is rohit'\n",
    "def rev_str(s):\n",
    "    new=s.split()\n",
    "    a= list(map(lambda a:a[::-1],new))\n",
    "    return ' '.join(a)"
   ]
  },
  {
   "cell_type": "code",
   "execution_count": 97,
   "id": "ac8e72f9-9cba-4eef-b41e-a4920d43376b",
   "metadata": {},
   "outputs": [
    {
     "data": {
      "text/plain": [
       "'ym eman si tihor'"
      ]
     },
     "execution_count": 97,
     "metadata": {},
     "output_type": "execute_result"
    }
   ],
   "source": [
    "rev_str(a)"
   ]
  },
  {
   "cell_type": "markdown",
   "id": "e7c88239-45ce-4c5d-83ca-bd4d81e94e8e",
   "metadata": {},
   "source": [
    " 23. Check if a string is alphanumeric.\n"
   ]
  },
  {
   "cell_type": "code",
   "execution_count": 170,
   "id": "99a5ea61-d830-4817-8f4a-4463d7c06ff4",
   "metadata": {},
   "outputs": [],
   "source": [
    "str1= \"Myname1\"\n",
    "def check_alnum(s):\n",
    "    if s.isalnum():\n",
    "        return \"yes the string is alphanumeric\"\n",
    "    else:\n",
    "        return \"no the string is not an alphanumeric\""
   ]
  },
  {
   "cell_type": "code",
   "execution_count": 171,
   "id": "57592611-91c2-4911-bd00-79159f5e8487",
   "metadata": {},
   "outputs": [
    {
     "data": {
      "text/plain": [
       "'yes the string is alphanumeric'"
      ]
     },
     "execution_count": 171,
     "metadata": {},
     "output_type": "execute_result"
    }
   ],
   "source": [
    "check_alnum(str1)"
   ]
  },
  {
   "cell_type": "markdown",
   "id": "47bff278-f1e6-458b-a41a-c42caabe234c",
   "metadata": {},
   "source": [
    " 24. Extract all digits from a string."
   ]
  },
  {
   "cell_type": "code",
   "execution_count": 180,
   "id": "809aef62-0465-4e75-9f6e-b14bba4c95ae",
   "metadata": {},
   "outputs": [],
   "source": [
    "str2=\"123Rohit456\"\n",
    "def extract_digits(s):\n",
    "    new=list(s)\n",
    "    digits=[]\n",
    "    for i in new:\n",
    "        if i.isdigit():\n",
    "            digits.append(i)\n",
    "    return ''.join(digits)\n",
    "            "
   ]
  },
  {
   "cell_type": "code",
   "execution_count": 181,
   "id": "a9552ff9-f8d6-43ea-876d-4133543da0d2",
   "metadata": {},
   "outputs": [
    {
     "data": {
      "text/plain": [
       "'123456'"
      ]
     },
     "execution_count": 181,
     "metadata": {},
     "output_type": "execute_result"
    }
   ],
   "source": [
    "extract_digits(str2)"
   ]
  },
  {
   "cell_type": "markdown",
   "id": "d26e07e5-6166-4aa9-8874-1e7c1eb48228",
   "metadata": {},
   "source": [
    " 25. Extract all alphabets from a string."
   ]
  },
  {
   "cell_type": "code",
   "execution_count": 183,
   "id": "e0c81dd7-91da-4a5e-bbb4-548ce5292c8d",
   "metadata": {},
   "outputs": [],
   "source": [
    "str3=\"123Rohit4567\"\n",
    "def extract_alpha(s):\n",
    "    new=list(s)\n",
    "    alpha=[]\n",
    "    for i in new:\n",
    "        if i.isalpha():\n",
    "            alpha.append(i)\n",
    "    return \"\".join(alpha)"
   ]
  },
  {
   "cell_type": "code",
   "execution_count": 184,
   "id": "3c3016d8-d872-468f-8f17-57c0d0854e7e",
   "metadata": {},
   "outputs": [
    {
     "data": {
      "text/plain": [
       "'Rohit'"
      ]
     },
     "execution_count": 184,
     "metadata": {},
     "output_type": "execute_result"
    }
   ],
   "source": [
    "extract_alpha(str3)"
   ]
  },
  {
   "cell_type": "markdown",
   "id": "f924a54e-f567-4911-95cc-235d06ba1086",
   "metadata": {},
   "source": [
    " 26. Count the number of uppercase letters in a string.\n"
   ]
  },
  {
   "cell_type": "code",
   "execution_count": 193,
   "id": "67c1a552-a363-4934-9848-484bde95b935",
   "metadata": {},
   "outputs": [],
   "source": [
    "str4=\"this Is StrinG worlD - ABCD\"\n",
    "def Count_upletter(s):\n",
    "    count=0\n",
    "    for i in s:\n",
    "        if i.isupper():\n",
    "            count+=1\n",
    "    return count"
   ]
  },
  {
   "cell_type": "code",
   "execution_count": 194,
   "id": "487d62ea-847b-4246-a917-afa33ffeb2b4",
   "metadata": {},
   "outputs": [
    {
     "data": {
      "text/plain": [
       "8"
      ]
     },
     "execution_count": 194,
     "metadata": {},
     "output_type": "execute_result"
    }
   ],
   "source": [
    "Count_upletter(str4)"
   ]
  },
  {
   "cell_type": "markdown",
   "id": "6def8408-3b44-486b-9aff-4f71498d7229",
   "metadata": {},
   "source": [
    " 27. Count the number of lowercase letters in a string."
   ]
  },
  {
   "cell_type": "code",
   "execution_count": 195,
   "id": "d5a59dee-7d2e-4512-94eb-daa94c0f66a9",
   "metadata": {},
   "outputs": [],
   "source": [
    "str5=\"I will count thE lower LETTERS\"\n",
    "def count_lowerletter(s):\n",
    "    count=0\n",
    "    for i in s:\n",
    "        if i.islower():\n",
    "            count+=1\n",
    "    return count"
   ]
  },
  {
   "cell_type": "code",
   "execution_count": 196,
   "id": "c632843a-88c3-4197-a2d6-7f2fb55cfe5f",
   "metadata": {},
   "outputs": [
    {
     "data": {
      "text/plain": [
       "16"
      ]
     },
     "execution_count": 196,
     "metadata": {},
     "output_type": "execute_result"
    }
   ],
   "source": [
    "count_lowerletter(str5)"
   ]
  },
  {
   "cell_type": "markdown",
   "id": "d6a09698-89bd-4741-914e-8bdda7005587",
   "metadata": {},
   "source": [
    " #28. Swap the case of each character in a string.\n"
   ]
  },
  {
   "cell_type": "code",
   "execution_count": 197,
   "id": "adb12857-e44b-45ad-9ff4-11ac340e0874",
   "metadata": {},
   "outputs": [],
   "source": [
    "str6=\"I will Swap The case of CharacteR\"\n",
    "def swap_the_case(s):\n",
    "    new_str=s.swapcase()\n",
    "    return new_str\n",
    "    "
   ]
  },
  {
   "cell_type": "code",
   "execution_count": 198,
   "id": "eb6041a6-d922-4675-9561-50640e4cd7a5",
   "metadata": {},
   "outputs": [
    {
     "data": {
      "text/plain": [
       "'i WILL sWAP tHE CASE OF cHARACTEr'"
      ]
     },
     "execution_count": 198,
     "metadata": {},
     "output_type": "execute_result"
    }
   ],
   "source": [
    "swap_the_case(str6)"
   ]
  },
  {
   "cell_type": "markdown",
   "id": "119230bb-9e28-44f7-bf31-22cb6926dea6",
   "metadata": {},
   "source": [
    " 29. Remove a specific word from a string."
   ]
  },
  {
   "cell_type": "code",
   "execution_count": 201,
   "id": "a6db8a6c-79be-4ac9-87e8-d9c823d3980a",
   "metadata": {},
   "outputs": [],
   "source": [
    "str7=\"this function will remove specific word\"\n",
    "def word_remover(s,word):\n",
    "    new_s=s.split()\n",
    "    string=[]\n",
    "    for i in new_s:\n",
    "        if i!=word:\n",
    "            string.append(i)\n",
    "    return \" \".join(string)"
   ]
  },
  {
   "cell_type": "code",
   "execution_count": 203,
   "id": "d1a86d1f-83f7-4691-8a5a-b8cb07720873",
   "metadata": {},
   "outputs": [
    {
     "data": {
      "text/plain": [
       "'this will remove specific word'"
      ]
     },
     "execution_count": 203,
     "metadata": {},
     "output_type": "execute_result"
    }
   ],
   "source": [
    "word_remover(str7,'function')"
   ]
  },
  {
   "cell_type": "markdown",
   "id": "8507bdf6-d29a-4c39-90a5-0e07ae6cf35f",
   "metadata": {},
   "source": [
    "30. Check if a string is a valid email address."
   ]
  },
  {
   "cell_type": "code",
   "execution_count": 207,
   "id": "e763ed8f-607d-41ff-ba82-059672d35bed",
   "metadata": {},
   "outputs": [],
   "source": [
    "import re\n",
    "\n",
    "def Check_Valid_email(email):\n",
    "    pattern=r'^[\\w\\.]+@[\\w\\.]+\\.\\w+$'\n",
    "    if re.match(pattern,email):\n",
    "        return \"Yes the email id is valid\"\n",
    "    else:\n",
    "        return \"No the email id is not correct\""
   ]
  },
  {
   "cell_type": "code",
   "execution_count": 208,
   "id": "ae271668-e9f1-4e1a-a9f4-8fd4f5fd8858",
   "metadata": {},
   "outputs": [
    {
     "data": {
      "text/plain": [
       "'Yes the email id is valid'"
      ]
     },
     "execution_count": 208,
     "metadata": {},
     "output_type": "execute_result"
    }
   ],
   "source": [
    "email1='rohitdeval6@gmail.com'\n",
    "Check_Valid_email(email1)"
   ]
  },
  {
   "cell_type": "code",
   "execution_count": 209,
   "id": "3d902712-9ba7-4fb1-808b-92fbd794ab50",
   "metadata": {},
   "outputs": [
    {
     "data": {
      "text/plain": [
       "'No the email id is not correct'"
      ]
     },
     "execution_count": 209,
     "metadata": {},
     "output_type": "execute_result"
    }
   ],
   "source": [
    "email2=\"rohit.com\"\n",
    "Check_Valid_email(email2)"
   ]
  },
  {
   "cell_type": "markdown",
   "id": "870983c3-f2a0-4a82-8f97-2616dd6fb95b",
   "metadata": {},
   "source": [
    " 31. Extract the username from an email address string."
   ]
  },
  {
   "cell_type": "code",
   "execution_count": 1,
   "id": "4ec30db9-7887-4ef6-a136-111d64429573",
   "metadata": {},
   "outputs": [],
   "source": [
    "def extract_username(s):\n",
    "    user_id= s.split('@')[0]\n",
    "    return user_id"
   ]
  },
  {
   "cell_type": "code",
   "execution_count": 3,
   "id": "d47c7fcf-9915-4b88-a770-16bb3decdb3d",
   "metadata": {},
   "outputs": [
    {
     "data": {
      "text/plain": [
       "'rohitdeval6'"
      ]
     },
     "execution_count": 3,
     "metadata": {},
     "output_type": "execute_result"
    }
   ],
   "source": [
    "email1='rohitdeval6@gmail.com'\n",
    "extract_username(email1)"
   ]
  },
  {
   "cell_type": "markdown",
   "id": "0636554a-5a2d-469e-ac6a-8137a2311274",
   "metadata": {},
   "source": [
    " 32. Extract the domain name from an email address string."
   ]
  },
  {
   "cell_type": "code",
   "execution_count": 4,
   "id": "fef0619d-7c61-462f-b4f3-f0b67bf67db3",
   "metadata": {},
   "outputs": [],
   "source": [
    "def extract_domain(s):\n",
    "    domain_name=s.split('@')[1]\n",
    "    return domain_name"
   ]
  },
  {
   "cell_type": "code",
   "execution_count": 5,
   "id": "bebe5ae6-a62c-4091-93c9-26289a68e45f",
   "metadata": {},
   "outputs": [
    {
     "data": {
      "text/plain": [
       "'gmail.com'"
      ]
     },
     "execution_count": 5,
     "metadata": {},
     "output_type": "execute_result"
    }
   ],
   "source": [
    "email1='rohitdeval6@gmail.com'\n",
    "extract_domain(email1)"
   ]
  },
  {
   "cell_type": "markdown",
   "id": "7d986b9d-ee95-40d0-9edb-79657da8482b",
   "metadata": {},
   "source": [
    "33. Replace multiple spaces in a string with a single space."
   ]
  },
  {
   "cell_type": "code",
   "execution_count": 34,
   "id": "3737092f-965d-4227-ab67-32734cb560ee",
   "metadata": {},
   "outputs": [],
   "source": [
    "str1= \"Hi my            name  is   Rohit\"\n",
    "def extraspace_remover(s):\n",
    "    new_string = s.split()\n",
    "    return ' '.join(new_string)"
   ]
  },
  {
   "cell_type": "code",
   "execution_count": 35,
   "id": "453b65ef-c82f-44df-b363-e1522f1b77af",
   "metadata": {},
   "outputs": [
    {
     "data": {
      "text/plain": [
       "'Hi my name is Rohit'"
      ]
     },
     "execution_count": 35,
     "metadata": {},
     "output_type": "execute_result"
    }
   ],
   "source": [
    "extraspace_remover(str1)"
   ]
  },
  {
   "cell_type": "markdown",
   "id": "e00b8554-ef36-4a69-af69-cc565a49cfa1",
   "metadata": {},
   "source": [
    " 34. Check if a string is a valid URL."
   ]
  },
  {
   "cell_type": "code",
   "execution_count": 111,
   "id": "7b45d079-41f3-4b6a-b9e0-bc4a343b6659",
   "metadata": {},
   "outputs": [
    {
     "name": "stdout",
     "output_type": "stream",
     "text": [
      "Yes its a valid URL\n"
     ]
    }
   ],
   "source": [
    "string1=\"www.google.com\"\n",
    "if string1.startswith('www') or string1.startswith('http')and string1.endswith(\".com\"):\n",
    "    print(\"Yes its a valid URL\")\n",
    "else:\n",
    "    print(\"No its a valid Url\")"
   ]
  },
  {
   "cell_type": "markdown",
   "id": "df86d43a-7f02-48d3-aad8-b2aa80b78a02",
   "metadata": {},
   "source": [
    " 35. Extract the protocol (http or https) from a URL string."
   ]
  },
  {
   "cell_type": "code",
   "execution_count": 112,
   "id": "79a99027-5764-4dd2-bf65-579f3e40c5cd",
   "metadata": {},
   "outputs": [
    {
     "name": "stdout",
     "output_type": "stream",
     "text": [
      "https\n"
     ]
    }
   ],
   "source": [
    "string2=\"https://www.google.com\"\n",
    "if string2.startswith(\"https\"):\n",
    "    print(\"https\")\n",
    "elif string2.startswith(\"http\"):\n",
    "    print(\"http\")\n",
    "else:\n",
    "    print(\"invalid url\")"
   ]
  },
  {
   "cell_type": "markdown",
   "id": "80526751-dac6-400a-8309-f3220941c337",
   "metadata": {},
   "source": [
    " 36. Find the frequency of each character in a string."
   ]
  },
  {
   "cell_type": "code",
   "execution_count": 68,
   "id": "115dd2ed-d7db-463d-9845-68a8ae5ab61f",
   "metadata": {},
   "outputs": [],
   "source": [
    "str4='i will play cricket in evening'\n",
    "def count_character(s):\n",
    "    count={}\n",
    "    for i in s:\n",
    "        if i in count:\n",
    "            count[i]+=1\n",
    "        else:\n",
    "            count[i]=1\n",
    "    return count\n",
    "    "
   ]
  },
  {
   "cell_type": "code",
   "execution_count": 69,
   "id": "4e60fb7d-3d4b-4b0e-abe6-23e26d6b9767",
   "metadata": {},
   "outputs": [
    {
     "data": {
      "text/plain": [
       "{'i': 5,\n",
       " ' ': 5,\n",
       " 'w': 1,\n",
       " 'l': 3,\n",
       " 'p': 1,\n",
       " 'a': 1,\n",
       " 'y': 1,\n",
       " 'c': 2,\n",
       " 'r': 1,\n",
       " 'k': 1,\n",
       " 'e': 3,\n",
       " 't': 1,\n",
       " 'n': 3,\n",
       " 'v': 1,\n",
       " 'g': 1}"
      ]
     },
     "execution_count": 69,
     "metadata": {},
     "output_type": "execute_result"
    }
   ],
   "source": [
    "count_character(str4)"
   ]
  },
  {
   "cell_type": "markdown",
   "id": "3418c953-ade8-4874-88ab-a4af2f97194f",
   "metadata": {},
   "source": [
    " 37. Remove all punctuation from a string.\n"
   ]
  },
  {
   "cell_type": "code",
   "execution_count": 118,
   "id": "3eee44b4-7b01-4afd-b493-f76875a031cc",
   "metadata": {},
   "outputs": [],
   "source": [
    "def Remove_puctuation(s):\n",
    "    b=[]\n",
    "    for i in s:\n",
    "        if i.isalnum():\n",
    "            b.append(i)\n",
    "        elif i.isspace():\n",
    "            b.append(i)\n",
    "    return ''.join(b)"
   ]
  },
  {
   "cell_type": "code",
   "execution_count": 120,
   "id": "bda7a866-77b0-45e4-a180-7512279efef7",
   "metadata": {},
   "outputs": [
    {
     "data": {
      "text/plain": [
       "'Hey This will be amazing'"
      ]
     },
     "execution_count": 120,
     "metadata": {},
     "output_type": "execute_result"
    }
   ],
   "source": [
    "a=\"Hey!! This will!!!! be____ amazing\"\n",
    "Remove_puctuation(a)"
   ]
  },
  {
   "cell_type": "markdown",
   "id": "95b28744-a2be-4b51-8fb0-950d68f9c88d",
   "metadata": {},
   "source": [
    " 38. Check if a string contains only digits."
   ]
  },
  {
   "cell_type": "code",
   "execution_count": 121,
   "id": "09f81ee6-2994-43b9-b1ae-0f0932c5935c",
   "metadata": {},
   "outputs": [],
   "source": [
    "def check_digit(s):\n",
    "    if s.isdigit():\n",
    "        return \"yes the string contains only digit\"\n",
    "    else:\n",
    "        return \"No the string does not contians only digits\""
   ]
  },
  {
   "cell_type": "code",
   "execution_count": 134,
   "id": "e58f55af-4ef0-4555-a513-926948468198",
   "metadata": {},
   "outputs": [],
   "source": [
    "str1='123456'\n"
   ]
  },
  {
   "cell_type": "code",
   "execution_count": 135,
   "id": "efdaf8b7-3fd8-4e65-8674-3f082868f3a5",
   "metadata": {},
   "outputs": [
    {
     "data": {
      "text/plain": [
       "'yes the string contains only digit'"
      ]
     },
     "execution_count": 135,
     "metadata": {},
     "output_type": "execute_result"
    }
   ],
   "source": [
    "check_digit(str1)"
   ]
  },
  {
   "cell_type": "markdown",
   "id": "f376aa75-a5e3-4c12-b43c-ace3fad14e92",
   "metadata": {},
   "source": [
    " 39. Check if a string contains only alphabets."
   ]
  },
  {
   "cell_type": "code",
   "execution_count": 136,
   "id": "9c0d9c95-e94c-484b-9a62-61791d7a6053",
   "metadata": {},
   "outputs": [],
   "source": [
    "def check_alpha(s):\n",
    "    if s.isalpha():\n",
    "        print(\"yes the string contains only alpha\")\n",
    "    else:\n",
    "        print(\"No the string does not contain only alpha\")"
   ]
  },
  {
   "cell_type": "code",
   "execution_count": 137,
   "id": "11db04ca-9bb6-4e8d-b0d7-b0ed2b7454e7",
   "metadata": {},
   "outputs": [
    {
     "name": "stdout",
     "output_type": "stream",
     "text": [
      "yes the string contains only alpha\n"
     ]
    }
   ],
   "source": [
    "string=\"HelloMySir\"\n",
    "check_alpha(string)"
   ]
  },
  {
   "cell_type": "markdown",
   "id": "8da3e04d-9bef-414d-beac-cae0327282f0",
   "metadata": {},
   "source": [
    " 40. Convert a string to a list of characters."
   ]
  },
  {
   "cell_type": "code",
   "execution_count": 140,
   "id": "8b75e1db-f838-4d46-b9a6-85bbb155a41e",
   "metadata": {},
   "outputs": [],
   "source": [
    "def convert_to_characters(s):\n",
    "    return list(s)"
   ]
  },
  {
   "cell_type": "code",
   "execution_count": 142,
   "id": "88444c39-a8f7-47ca-8156-f391c087a5ff",
   "metadata": {},
   "outputs": [
    {
     "data": {
      "text/plain": [
       "['g', 'o', ' ', 't', 'o', ' ', 't', 'h', 'e', ' ', 'w', 'o', 'r', 'k']"
      ]
     },
     "execution_count": 142,
     "metadata": {},
     "output_type": "execute_result"
    }
   ],
   "source": [
    "string=\"go to the work\"\n",
    "convert_to_characters(string)"
   ]
  },
  {
   "cell_type": "markdown",
   "id": "192a696c-cb9b-4afc-aec5-25f88d9ae4e1",
   "metadata": {},
   "source": [
    " 41. Check if two strings are anagrams.\n"
   ]
  },
  {
   "cell_type": "code",
   "execution_count": 152,
   "id": "7370dfa2-7937-4a12-8f87-1fd75995e84c",
   "metadata": {},
   "outputs": [],
   "source": [
    "def Check_anagrams(s1,s2):\n",
    "    a=s1.replace(\" \",\"\").lower()\n",
    "    b=s2.replace(\" \",\"\").lower()\n",
    "    if sorted(a)==sorted(b):\n",
    "        return \"Yes the string's are anagrams\"\n",
    "    else:\n",
    "        return \"NO the string's not  an anagrams\""
   ]
  },
  {
   "cell_type": "code",
   "execution_count": 153,
   "id": "efa6d9bf-e951-426b-972f-c9d1caff0200",
   "metadata": {},
   "outputs": [
    {
     "data": {
      "text/plain": [
       "\"Yes the string's are anagrams\""
      ]
     },
     "execution_count": 153,
     "metadata": {},
     "output_type": "execute_result"
    }
   ],
   "source": [
    "str1=\"Tough\"\n",
    "str2=\"ought\"\n",
    "\n",
    "Check_anagrams(str1,str2)"
   ]
  },
  {
   "cell_type": "markdown",
   "id": "4a437fe4-33a9-4eb7-a17f-ff7f78da71ab",
   "metadata": {},
   "source": [
    " 42. Encode a string using a Caesar cipher."
   ]
  },
  {
   "cell_type": "code",
   "execution_count": null,
   "id": "bf50be2b-ab6b-4e1d-b581-74070755e119",
   "metadata": {},
   "outputs": [],
   "source": [
    "str4='i will play cricket in evening'\n",
    "def count_character(s):\n",
    "    count={}\n",
    "    for i in s:\n",
    "        if i in count:\n",
    "            count[i]+=1\n",
    "        else:\n",
    "            count[i]=1\n",
    "    return count\n",
    "    "
   ]
  },
  {
   "cell_type": "code",
   "execution_count": 201,
   "id": "02e6da82-d69f-49ac-9c19-971366f68781",
   "metadata": {},
   "outputs": [
    {
     "name": "stdout",
     "output_type": "stream",
     "text": [
      "Encode message\n",
      "pbqdphlvurklw"
     ]
    }
   ],
   "source": [
    "list1=\"my name is rohit\"\n",
    "list2=\"abcdefghijklmnopqrstuvwxyzabcd\"\n",
    "encode=[]\n",
    "for i in list1:\n",
    "    if i in list2:\n",
    "        encode.append(list2.index(i))\n",
    "print(\"Encode message\")\n",
    "for i in encode:\n",
    "    print(list2[i+3],end='')"
   ]
  },
  {
   "cell_type": "markdown",
   "id": "5a066659-eeb3-4986-80ca-f0d11b96c4df",
   "metadata": {},
   "source": [
    "43. Decode a Caesar cipher encoded string."
   ]
  },
  {
   "cell_type": "code",
   "execution_count": 210,
   "id": "14514bf4-c862-4ab1-b3a9-cd1e503667d6",
   "metadata": {},
   "outputs": [
    {
     "name": "stdout",
     "output_type": "stream",
     "text": [
      "mynameisrohit"
     ]
    },
    {
     "data": {
      "text/plain": [
       "[18, 4, 19, 6, 18, 10, 14, 24, 23, 20, 13, 14, 25]"
      ]
     },
     "execution_count": 210,
     "metadata": {},
     "output_type": "execute_result"
    }
   ],
   "source": [
    "caser_msg=\"pbqdphlvurklw\"\n",
    "alpha_list=\"xyzabcdefghijklmnopqrstuvw\"\n",
    "decode_msg=[]\n",
    "for i in caser_msg:\n",
    "    if i in alpha_list[::-1]:\n",
    "        decode_msg.append(alpha_list.index(i))\n",
    "for i in decode_msg:\n",
    "    print(alpha_list[i-3],end='')\n",
    "\n",
    "decode_msg"
   ]
  },
  {
   "cell_type": "markdown",
   "id": "1f92825b-5bfc-4f45-8e16-63f09d1500d8",
   "metadata": {},
   "source": [
    " 44. Find the most frequent word in a string.\n"
   ]
  },
  {
   "cell_type": "code",
   "execution_count": 31,
   "id": "a58a26e9-6faf-4519-9cf9-29f32c10b315",
   "metadata": {},
   "outputs": [],
   "source": [
    "def most_frequet_word(word):\n",
    "    new_word=word.split()\n",
    "    count=1\n",
    "    for i in new_word:\n",
    "        c=new_word.count(i)\n",
    "        if c>count:\n",
    "            count =c\n",
    "            nword=i\n",
    "    print(\"The most frequent word is->\", nword, \"and it appeared\", count,'times')"
   ]
  },
  {
   "cell_type": "code",
   "execution_count": 32,
   "id": "16a6bb3c-c377-407a-b50b-ada4e12f2f50",
   "metadata": {},
   "outputs": [
    {
     "name": "stdout",
     "output_type": "stream",
     "text": [
      "The most frequent word is-> will and it appeared 2 times\n"
     ]
    }
   ],
   "source": [
    "string=\"i will watch tv and the will play cricket\"\n",
    "most_frequet_word(string)"
   ]
  },
  {
   "cell_type": "markdown",
   "id": "b4a1a243-e22f-4a5b-b41d-c197bc3458f1",
   "metadata": {},
   "source": [
    "45. Find all unique words in a string."
   ]
  },
  {
   "cell_type": "code",
   "execution_count": 122,
   "id": "49c2d5a1-ca23-41bb-9882-f57b946454c7",
   "metadata": {},
   "outputs": [],
   "source": [
    "def find_unique_word(s):\n",
    "    unique_word=set(s.split())\n",
    "    print(\"The most unique words are->\", unique_word)"
   ]
  },
  {
   "cell_type": "code",
   "execution_count": 125,
   "id": "8f68e40a-fab6-4499-b903-d1f2df961b92",
   "metadata": {},
   "outputs": [
    {
     "name": "stdout",
     "output_type": "stream",
     "text": [
      "The most unique words are-> {'cricket', 'play', 'and', 'watch', 'i', 'the', 'will', 'tv'}\n"
     ]
    }
   ],
   "source": [
    "str1=\"i will watch tv and the will play cricket\"\n",
    "find_unique_word(str1)"
   ]
  },
  {
   "cell_type": "markdown",
   "id": "0d4bdf1d-2c8a-456e-a420-30b3e66b8ff7",
   "metadata": {},
   "source": [
    " 46. Count the number of syllables in a string."
   ]
  },
  {
   "cell_type": "code",
   "execution_count": 139,
   "id": "17f00ed5-1aa1-4cea-8723-cacab16e6068",
   "metadata": {},
   "outputs": [],
   "source": [
    "def count_syllables(s):\n",
    "    new_s=s.lower()\n",
    "    count=0\n",
    "    vowel='aeiou'\n",
    "    for i in new_s:\n",
    "        if i in vowel:\n",
    "            count+=1\n",
    "    print('In the given string found', count, 'syllables')"
   ]
  },
  {
   "cell_type": "code",
   "execution_count": 140,
   "id": "2768d50a-64ee-453d-b3ce-b148c5be8e6e",
   "metadata": {},
   "outputs": [],
   "source": [
    "str1='Rohit'"
   ]
  },
  {
   "cell_type": "code",
   "execution_count": 141,
   "id": "e6a61110-a20d-4dc1-9a54-6a944268b1c9",
   "metadata": {},
   "outputs": [
    {
     "name": "stdout",
     "output_type": "stream",
     "text": [
      "In the given string found 2 syllables\n"
     ]
    }
   ],
   "source": [
    "count_syllables(str1)"
   ]
  },
  {
   "cell_type": "markdown",
   "id": "f287f207-396e-4429-975b-386f581c644a",
   "metadata": {},
   "source": [
    " 47. Check if a string contains any special characters."
   ]
  },
  {
   "cell_type": "code",
   "execution_count": 153,
   "id": "7eea76f3-418e-4b67-bb0f-4da6fb586cec",
   "metadata": {},
   "outputs": [],
   "source": [
    "def check_spchar(s):\n",
    "    w=''.join(s)\n",
    "    if w.isalnum():\n",
    "        return \"No the string does not have any special character\"\n",
    "    else:\n",
    "        return \"yes the string has special character\""
   ]
  },
  {
   "cell_type": "code",
   "execution_count": 154,
   "id": "ec809bf3-b71a-46c0-9fb9-26e17b29889d",
   "metadata": {},
   "outputs": [
    {
     "data": {
      "text/plain": [
       "'yes the string has special character'"
      ]
     },
     "execution_count": 154,
     "metadata": {},
     "output_type": "execute_result"
    }
   ],
   "source": [
    "str2=\"my name is Rohit_\"\n",
    "check_spchar(str2)\n"
   ]
  },
  {
   "cell_type": "markdown",
   "id": "a8c74b3f-46a5-48c1-b9f8-944e5518a78e",
   "metadata": {},
   "source": [
    " 48. Remove the nth word from a string."
   ]
  },
  {
   "cell_type": "code",
   "execution_count": 178,
   "id": "e1eddf39-160a-4540-82f0-43cfa5ce37a3",
   "metadata": {},
   "outputs": [],
   "source": [
    "def Nth_word_remover(s,Nth):\n",
    "    new_s=s.split()\n",
    "    modified=[]\n",
    "    for i in new_s:\n",
    "        if i!=new_s[Nth]:\n",
    "            modified.append(i)\n",
    "    return ' '.join(modified)"
   ]
  },
  {
   "cell_type": "code",
   "execution_count": 179,
   "id": "00d99843-ade2-4f7e-bcd7-20bb0423503d",
   "metadata": {},
   "outputs": [
    {
     "data": {
      "text/plain": [
       "'my is Rohit_'"
      ]
     },
     "execution_count": 179,
     "metadata": {},
     "output_type": "execute_result"
    }
   ],
   "source": [
    "str2=\"my name is Rohit_\"\n",
    "Nth_word_remover(str2,1)"
   ]
  },
  {
   "cell_type": "markdown",
   "id": "43ae7cc6-5ff3-4ed2-a6b7-36682b7a4c04",
   "metadata": {},
   "source": [
    " 49. Insert a word at the nth position in a string."
   ]
  },
  {
   "cell_type": "code",
   "execution_count": 64,
   "id": "cb2f58a3-bef8-405c-bd21-2cee568b1cf0",
   "metadata": {},
   "outputs": [],
   "source": [
    "def insert_word(s,w,n):\n",
    "    #s will be string\n",
    "    #w will be the word we want to put\n",
    "    #n will be the index position\n",
    "    sn=s.split()\n",
    "    modified_s=sn[:n]+[w]+sn[n:]\n",
    "    return ' '.join(modified_s)"
   ]
  },
  {
   "cell_type": "code",
   "execution_count": 65,
   "id": "98917c50-42ac-40ff-b0a9-156dcceb5584",
   "metadata": {},
   "outputs": [
    {
     "data": {
      "text/plain": [
       "'my name are is rohit'"
      ]
     },
     "execution_count": 65,
     "metadata": {},
     "output_type": "execute_result"
    }
   ],
   "source": [
    "insert_word(s,'are',2)"
   ]
  },
  {
   "cell_type": "markdown",
   "id": "e8a684dd-8193-469f-a275-91940b5db14f",
   "metadata": {},
   "source": [
    " 50. Convert a CSV string to a list of lists.\n"
   ]
  },
  {
   "cell_type": "code",
   "execution_count": 66,
   "id": "0c957613-1e08-45b2-b430-038a8612c606",
   "metadata": {},
   "outputs": [],
   "source": [
    "csv_data = \"Name, Age, Country\\nJohn, 25, USA\\nAlice, 30, Canada\\nBob, 22, UK\""
   ]
  },
  {
   "cell_type": "code",
   "execution_count": 84,
   "id": "540d9b2a-3547-48d0-9a09-0d681c2cbc09",
   "metadata": {},
   "outputs": [],
   "source": [
    "def convert_csv(s):\n",
    "    a= s.split('\\n')\n",
    "    for i in a:\n",
    "        print([i])"
   ]
  },
  {
   "cell_type": "code",
   "execution_count": 85,
   "id": "98f8da6f-62eb-4642-9ff2-696231f6bbfd",
   "metadata": {},
   "outputs": [
    {
     "name": "stdout",
     "output_type": "stream",
     "text": [
      "['Name, Age, Country']\n",
      "['John, 25, USA']\n",
      "['Alice, 30, Canada']\n",
      "['Bob, 22, UK']\n"
     ]
    }
   ],
   "source": [
    "convert_csv(csv_data)"
   ]
  },
  {
   "cell_type": "code",
   "execution_count": null,
   "id": "7f33bde4-4f97-42d4-ad1e-7e1ffb0050d8",
   "metadata": {},
   "outputs": [],
   "source": []
  },
  {
   "cell_type": "markdown",
   "id": "faa2320d-a2a2-4321-b9d3-40b5294c2897",
   "metadata": {},
   "source": [
    "# List Based Practice Problem :\n"
   ]
  },
  {
   "cell_type": "markdown",
   "id": "eae4f654-2a98-42a2-9723-78ca665eb2a3",
   "metadata": {},
   "source": [
    "1. Create a list with integers from 1 to 10."
   ]
  },
  {
   "cell_type": "code",
   "execution_count": 1,
   "id": "c8f06b54-35e7-422e-9d24-cda15efd0e75",
   "metadata": {},
   "outputs": [
    {
     "name": "stdout",
     "output_type": "stream",
     "text": [
      "[1, 2, 3, 4, 5, 6, 7, 8, 9, 10]\n"
     ]
    }
   ],
   "source": [
    "first_list=[1,2,3,4,5,6,7,8,9,10]\n",
    "print(first_list)"
   ]
  },
  {
   "cell_type": "markdown",
   "id": "f0c047c4-1a39-4345-b076-ea92a84d2616",
   "metadata": {},
   "source": [
    "2. Find the length of a list without using the `len()` function."
   ]
  },
  {
   "cell_type": "code",
   "execution_count": 2,
   "id": "98f686d5-2ccb-4167-8004-343398f62871",
   "metadata": {},
   "outputs": [],
   "source": [
    "l1=['my','name','is','Rohit']\n",
    "def count_len(l):\n",
    "    count=0\n",
    "    for i in l:\n",
    "        count+=1\n",
    "    return count"
   ]
  },
  {
   "cell_type": "code",
   "execution_count": 4,
   "id": "f53278d0-ccf1-458f-bd40-a3930053db07",
   "metadata": {},
   "outputs": [
    {
     "data": {
      "text/plain": [
       "4"
      ]
     },
     "execution_count": 4,
     "metadata": {},
     "output_type": "execute_result"
    }
   ],
   "source": [
    "count_len(l1)"
   ]
  },
  {
   "cell_type": "markdown",
   "id": "7e829715-4d4f-4757-9f4c-1cba3d0acf91",
   "metadata": {},
   "source": [
    " 3. Append an element to the end of a list."
   ]
  },
  {
   "cell_type": "code",
   "execution_count": 15,
   "id": "2973da92-9261-45d6-9883-b2f9ba2adf99",
   "metadata": {},
   "outputs": [],
   "source": [
    "def Append_at_end(l,element):\n",
    "    return l+[element]"
   ]
  },
  {
   "cell_type": "code",
   "execution_count": 16,
   "id": "a3b7c25a-b06e-4134-8770-2b0d229b06a1",
   "metadata": {},
   "outputs": [
    {
     "data": {
      "text/plain": [
       "['I', 'will', 'run', 'fast']"
      ]
     },
     "execution_count": 16,
     "metadata": {},
     "output_type": "execute_result"
    }
   ],
   "source": [
    "l2=['I','will','run']\n",
    "Append_at_end(l2,'fast')"
   ]
  },
  {
   "cell_type": "markdown",
   "id": "77f883c0-bcb7-4c65-8510-90398dd7f7cd",
   "metadata": {},
   "source": [
    " 4. Insert an element at a specific index in a list"
   ]
  },
  {
   "cell_type": "code",
   "execution_count": 18,
   "id": "528a7cb4-441d-48e2-8189-cf891a7d1db1",
   "metadata": {},
   "outputs": [],
   "source": [
    "def insert_word(l,word,index):\n",
    "    #l- list\n",
    "    #word - please enter a word\n",
    "    #index - please enter a position you want to put word\n",
    "    return l[:index]+[word]+l[index:]"
   ]
  },
  {
   "cell_type": "code",
   "execution_count": 19,
   "id": "69d0eb0b-0a23-43ac-8114-14bface6acc0",
   "metadata": {},
   "outputs": [
    {
     "data": {
      "text/plain": [
       "[1, 2, 'Rohit', 3, 4, 5]"
      ]
     },
     "execution_count": 19,
     "metadata": {},
     "output_type": "execute_result"
    }
   ],
   "source": [
    "l3=[1,2,3,4,5]\n",
    "insert_word(l3,'Rohit',2)"
   ]
  },
  {
   "cell_type": "markdown",
   "id": "3c37d022-b846-4fb2-b0e0-0a2a56b41942",
   "metadata": {},
   "source": [
    "5. Remove an element from a list by its value."
   ]
  },
  {
   "cell_type": "code",
   "execution_count": 38,
   "id": "494c0404-a428-4edf-af8a-d4fe6d2c4153",
   "metadata": {},
   "outputs": [],
   "source": [
    "def remove_element(l,element):\n",
    "    new_list=[]\n",
    "    for i in l:\n",
    "        if i!=element:\n",
    "            new_list.append(i)\n",
    "    return new_list"
   ]
  },
  {
   "cell_type": "code",
   "execution_count": 39,
   "id": "ebca29d8-6993-4347-be44-86e0aa81aaaf",
   "metadata": {},
   "outputs": [
    {
     "data": {
      "text/plain": [
       "['i', 'will']"
      ]
     },
     "execution_count": 39,
     "metadata": {},
     "output_type": "execute_result"
    }
   ],
   "source": [
    "l4=['i','will','you']\n",
    "remove_element(l4,'you')"
   ]
  },
  {
   "cell_type": "markdown",
   "id": "bba466e9-0177-4b1f-a8c6-ca7bafc378aa",
   "metadata": {},
   "source": [
    " 6. Remove an element from a list by its index."
   ]
  },
  {
   "cell_type": "code",
   "execution_count": 78,
   "id": "76935c9b-f292-414b-be30-6bc38c7486a0",
   "metadata": {},
   "outputs": [],
   "source": [
    "def remove_index(l,index):\n",
    "    return l[:index]+l[index+1:]"
   ]
  },
  {
   "cell_type": "code",
   "execution_count": 81,
   "id": "7dba8586-d82e-4f87-8b1e-c7e59b581336",
   "metadata": {},
   "outputs": [
    {
     "data": {
      "text/plain": [
       "['A', 'B', 'D']"
      ]
     },
     "execution_count": 81,
     "metadata": {},
     "output_type": "execute_result"
    }
   ],
   "source": [
    "l5=['A','B','C','D']\n",
    "remove_index(l5,2)"
   ]
  },
  {
   "cell_type": "markdown",
   "id": "bf6911a2-eb58-432f-84b2-75e17c46e7ad",
   "metadata": {},
   "source": [
    " 7. Check if an element exists in a list."
   ]
  },
  {
   "cell_type": "code",
   "execution_count": 102,
   "id": "0780931b-75b1-4db4-8670-026390587dfb",
   "metadata": {},
   "outputs": [],
   "source": [
    "def check_element(l,element):\n",
    "    if element in l:\n",
    "        print('yes the',element, 'found in list')\n",
    "    else:\n",
    "        print('no the',element,'not found in list')"
   ]
  },
  {
   "cell_type": "code",
   "execution_count": 103,
   "id": "b32028c4-b3fd-49bf-bf5a-bbe42a3b3b72",
   "metadata": {},
   "outputs": [
    {
     "name": "stdout",
     "output_type": "stream",
     "text": [
      "yes the start found in list\n"
     ]
    }
   ],
   "source": [
    "l6=['first','last','start']\n",
    "check_element(l6,'start')"
   ]
  },
  {
   "cell_type": "markdown",
   "id": "059d6e28-3ec7-4cd1-8948-d287cb28d9f2",
   "metadata": {},
   "source": [
    " 8. Find the index of the first occurrence of an element in a list"
   ]
  },
  {
   "cell_type": "code",
   "execution_count": 107,
   "id": "cc58776e-47c6-4f16-84a4-39428d8c2bb4",
   "metadata": {},
   "outputs": [],
   "source": [
    "def first_occur(l,element):\n",
    "    return \"it first appeared at position\", l.index(element) "
   ]
  },
  {
   "cell_type": "code",
   "execution_count": 111,
   "id": "6d264ffa-dbf9-4232-aff7-53b5b0010912",
   "metadata": {},
   "outputs": [
    {
     "data": {
      "text/plain": [
       "('it first appeared at position', 2)"
      ]
     },
     "execution_count": 111,
     "metadata": {},
     "output_type": "execute_result"
    }
   ],
   "source": [
    "l7=[1,2,3,4,5,2,3,4]\n",
    "first_occur(l7,3)"
   ]
  },
  {
   "cell_type": "markdown",
   "id": "c28733a2-3c0b-4502-9f27-1c6307aaf819",
   "metadata": {},
   "source": [
    " 9. Count the occurrences of an element in a list."
   ]
  },
  {
   "cell_type": "code",
   "execution_count": 122,
   "id": "78221c76-314f-4ce2-a41b-35524c62bd46",
   "metadata": {},
   "outputs": [],
   "source": [
    "def count_occurence(l,element):\n",
    "    count=0\n",
    "    for i in l:\n",
    "        if i==element:\n",
    "            count+=1\n",
    "    print(element, 'appeared', count, 'times in a list')"
   ]
  },
  {
   "cell_type": "code",
   "execution_count": 123,
   "id": "1656e79d-ba8c-44c3-9013-19835e1e7d2f",
   "metadata": {},
   "outputs": [
    {
     "name": "stdout",
     "output_type": "stream",
     "text": [
      "3 appeared 4 times in a list\n"
     ]
    }
   ],
   "source": [
    "l8= [1,2,3,3,3,2,4,5,3]\n",
    "count_occurence(l8,3)"
   ]
  },
  {
   "cell_type": "markdown",
   "id": "1fb98f42-0efc-4a0c-a1bb-bdc558f55899",
   "metadata": {},
   "source": [
    " 10. Reverse the order of elements in a list"
   ]
  },
  {
   "cell_type": "code",
   "execution_count": 126,
   "id": "6840e8db-143b-4712-b498-189cff4810f4",
   "metadata": {},
   "outputs": [],
   "source": [
    "def reverse_list(l):\n",
    "    return l[::-1]"
   ]
  },
  {
   "cell_type": "code",
   "execution_count": 127,
   "id": "e280741d-40d5-435b-a96a-047b56b51cd3",
   "metadata": {},
   "outputs": [
    {
     "data": {
      "text/plain": [
       "[1, 2, 3, 3, 3, 2, 4, 5, 3]"
      ]
     },
     "execution_count": 127,
     "metadata": {},
     "output_type": "execute_result"
    }
   ],
   "source": [
    "l8"
   ]
  },
  {
   "cell_type": "code",
   "execution_count": 128,
   "id": "8deaae35-3241-4222-a949-04d75e310741",
   "metadata": {},
   "outputs": [
    {
     "data": {
      "text/plain": [
       "[3, 5, 4, 2, 3, 3, 3, 2, 1]"
      ]
     },
     "execution_count": 128,
     "metadata": {},
     "output_type": "execute_result"
    }
   ],
   "source": [
    "reverse_list(l8)"
   ]
  },
  {
   "cell_type": "markdown",
   "id": "c6081652-3306-4587-9bd7-640b9c52c3cf",
   "metadata": {},
   "source": [
    " 11. Sort a list in ascending order"
   ]
  },
  {
   "cell_type": "code",
   "execution_count": 132,
   "id": "3fc4d5d6-4138-4900-9e22-d8a699b6b45d",
   "metadata": {},
   "outputs": [],
   "source": [
    "def sort_list(l):\n",
    "    return sorted(l)"
   ]
  },
  {
   "cell_type": "code",
   "execution_count": 133,
   "id": "7885f16c-aaad-4a02-b10f-dfd826f39bc4",
   "metadata": {},
   "outputs": [
    {
     "data": {
      "text/plain": [
       "[1, 2, 3, 3, 3, 2, 4, 5, 3]"
      ]
     },
     "execution_count": 133,
     "metadata": {},
     "output_type": "execute_result"
    }
   ],
   "source": [
    "l8"
   ]
  },
  {
   "cell_type": "code",
   "execution_count": 134,
   "id": "5afff4df-773b-4785-a7f2-81174499081b",
   "metadata": {},
   "outputs": [
    {
     "data": {
      "text/plain": [
       "[1, 2, 2, 3, 3, 3, 3, 4, 5]"
      ]
     },
     "execution_count": 134,
     "metadata": {},
     "output_type": "execute_result"
    }
   ],
   "source": [
    "sort_list(l8)"
   ]
  },
  {
   "cell_type": "markdown",
   "id": "b87e3b8b-32c3-41f2-b6e6-f76c6c0f2b65",
   "metadata": {},
   "source": [
    " 12. Sort a list in descending order."
   ]
  },
  {
   "cell_type": "code",
   "execution_count": 140,
   "id": "e0146914-c400-4ac1-b5ce-01e0d6b081ff",
   "metadata": {},
   "outputs": [],
   "source": [
    "def sort_to_descending(l):\n",
    "    a=sorted(l)\n",
    "    return a[::-1]"
   ]
  },
  {
   "cell_type": "code",
   "execution_count": 141,
   "id": "296b169f-9e48-4e0a-817a-4ad6a74f34b4",
   "metadata": {},
   "outputs": [
    {
     "data": {
      "text/plain": [
       "[1, 2, 3, 3, 3, 2, 4, 5, 3]"
      ]
     },
     "execution_count": 141,
     "metadata": {},
     "output_type": "execute_result"
    }
   ],
   "source": [
    "l8"
   ]
  },
  {
   "cell_type": "code",
   "execution_count": 142,
   "id": "76d33079-5eae-4892-ad21-ffabd7548870",
   "metadata": {},
   "outputs": [
    {
     "data": {
      "text/plain": [
       "[5, 4, 3, 3, 3, 3, 2, 2, 1]"
      ]
     },
     "execution_count": 142,
     "metadata": {},
     "output_type": "execute_result"
    }
   ],
   "source": [
    "sort_to_descending(l8)"
   ]
  },
  {
   "cell_type": "markdown",
   "id": "2904fc01-15c2-4698-b19d-af354807997a",
   "metadata": {},
   "source": [
    "13. Create a list of even numbers from 1 to 20."
   ]
  },
  {
   "cell_type": "code",
   "execution_count": 156,
   "id": "07bcaa1f-9279-47e5-8c32-5ed854a4d01f",
   "metadata": {},
   "outputs": [
    {
     "name": "stdout",
     "output_type": "stream",
     "text": [
      "[2, 4, 6, 8, 10, 12, 14, 16, 18, 20]\n"
     ]
    }
   ],
   "source": [
    "l=list(range(1,21))\n",
    "new_list=[]\n",
    "for i in l:\n",
    "    if i%2==0:\n",
    "        new_list.append(i)\n",
    "print( new_list)"
   ]
  },
  {
   "cell_type": "markdown",
   "id": "353527e6-84d0-42df-aa00-614676116c2a",
   "metadata": {},
   "source": [
    "14. Create a list of odd numbers from 1 to 20"
   ]
  },
  {
   "cell_type": "code",
   "execution_count": 161,
   "id": "3de69e05-0312-4c44-a91f-ebdde157ba86",
   "metadata": {},
   "outputs": [
    {
     "name": "stdout",
     "output_type": "stream",
     "text": [
      "[1, 3, 5, 7, 9, 11, 13, 15, 17, 19]\n"
     ]
    }
   ],
   "source": [
    "l=list(range(1,21))\n",
    "n_list=[]\n",
    "for i in l:\n",
    "    if i%2!=0:\n",
    "        n_list.append(i)\n",
    "print(n_list)"
   ]
  },
  {
   "cell_type": "markdown",
   "id": "85596bc0-45b9-4547-8b95-5710662fd0c2",
   "metadata": {},
   "source": [
    " 15. Find the sum of all elements in a list.\n"
   ]
  },
  {
   "cell_type": "code",
   "execution_count": 166,
   "id": "9283fc1f-106c-4f78-99f4-aba565f8f0f1",
   "metadata": {},
   "outputs": [
    {
     "name": "stdout",
     "output_type": "stream",
     "text": [
      "15\n"
     ]
    }
   ],
   "source": [
    "l1=list(range(1,6))\n",
    "total=0\n",
    "for i in l1:\n",
    "    total+=i\n",
    "print(total)\n",
    "        "
   ]
  },
  {
   "cell_type": "markdown",
   "id": "9a462c5e-1cc1-49b3-8fc8-8d26b5069ac7",
   "metadata": {},
   "source": [
    "16. Find the maximum value in a list."
   ]
  },
  {
   "cell_type": "code",
   "execution_count": 167,
   "id": "a6c099d1-5d39-4e0d-a1e4-e2046e6a3bfa",
   "metadata": {},
   "outputs": [
    {
     "name": "stdout",
     "output_type": "stream",
     "text": [
      "The maximum value in list is 6\n"
     ]
    }
   ],
   "source": [
    "l2=[1,2,4,5,6,3]\n",
    "maximum=max(l2)\n",
    "print(\"The maximum value in list is\",maximum)"
   ]
  },
  {
   "cell_type": "markdown",
   "id": "ac6dd851-3512-4bc6-8be2-4ae2c03fc4a0",
   "metadata": {},
   "source": [
    " 17. Find the minimum value in a list"
   ]
  },
  {
   "cell_type": "code",
   "execution_count": 169,
   "id": "d60b34be-62e1-4ae0-8397-f1e45d5950c0",
   "metadata": {},
   "outputs": [
    {
     "name": "stdout",
     "output_type": "stream",
     "text": [
      "The minimum vallue in list is 1\n"
     ]
    }
   ],
   "source": [
    "l2=[1,2,4,5,6,3]\n",
    "minimum=min(l2)\n",
    "print(\"The minimum vallue in list is\", minimum)"
   ]
  },
  {
   "cell_type": "markdown",
   "id": "cd141498-8730-40c1-a995-33053a3e6b0b",
   "metadata": {},
   "source": [
    "18. Create a list of squares of numbers from 1 to 10"
   ]
  },
  {
   "cell_type": "code",
   "execution_count": 190,
   "id": "da81596b-312d-4887-9f8f-caec5debeb6b",
   "metadata": {},
   "outputs": [],
   "source": [
    "def create_sqlist(l):\n",
    "    square=[]\n",
    "    for i in l:\n",
    "        square.append(i**2)\n",
    "    return square"
   ]
  },
  {
   "cell_type": "code",
   "execution_count": 191,
   "id": "2a84c336-28aa-4163-ac59-2f718ecaf376",
   "metadata": {},
   "outputs": [
    {
     "data": {
      "text/plain": [
       "[1, 4, 9, 16, 25, 36, 49, 64, 81, 100]"
      ]
     },
     "execution_count": 191,
     "metadata": {},
     "output_type": "execute_result"
    }
   ],
   "source": [
    "l3=[1,2,3,4,5,6,7,8,9,10]\n",
    "create_sqlist(l3)"
   ]
  },
  {
   "cell_type": "markdown",
   "id": "bd54ef52-ebbd-42fd-aa32-9110a8cf54a4",
   "metadata": {},
   "source": [
    " 19. Create a list of random numbers."
   ]
  },
  {
   "cell_type": "code",
   "execution_count": 227,
   "id": "b55084fa-f72b-4e24-a365-f00a069debad",
   "metadata": {},
   "outputs": [
    {
     "name": "stdout",
     "output_type": "stream",
     "text": [
      "the random list is [7, 21, 11, 27, 12, 45, 6, 31, 36, 35]\n"
     ]
    }
   ],
   "source": [
    "import random\n",
    "new_list=[]\n",
    "for i in range(10):\n",
    "    i=random.randint(1,50)\n",
    "    new_list.append(i)\n",
    "print(\"the random list is\", new_list)\n",
    "    "
   ]
  },
  {
   "cell_type": "markdown",
   "id": "2abe3d99-c233-477f-a0c5-39eae881e8e0",
   "metadata": {},
   "source": [
    "20. Remove duplicates from a list"
   ]
  },
  {
   "cell_type": "code",
   "execution_count": 228,
   "id": "d29d21e6-1b6a-4487-926b-23f4fd212f74",
   "metadata": {},
   "outputs": [],
   "source": [
    "def remove_duplicates(l):\n",
    "    return list(set(l))"
   ]
  },
  {
   "cell_type": "code",
   "execution_count": 229,
   "id": "ed6b22f1-651e-4081-93ef-40b3bd3079fa",
   "metadata": {},
   "outputs": [
    {
     "data": {
      "text/plain": [
       "[1, 2, 3, 4]"
      ]
     },
     "execution_count": 229,
     "metadata": {},
     "output_type": "execute_result"
    }
   ],
   "source": [
    "l4=[1,1,2,2,3,3,4,4]\n",
    "remove_duplicates(l4)"
   ]
  },
  {
   "cell_type": "markdown",
   "id": "64315400-dede-4765-a76e-ddb04bcf5ecb",
   "metadata": {},
   "source": [
    " 21. Find the common elements between two lists."
   ]
  },
  {
   "cell_type": "code",
   "execution_count": 232,
   "id": "e4b56d9c-cea8-4baa-8b26-fc150ee58d2f",
   "metadata": {},
   "outputs": [],
   "source": [
    "def find_common(l1,l2):\n",
    "    common=[]\n",
    "    for i in l1:\n",
    "        if i in l2:\n",
    "            common.append(i)\n",
    "    return 'the common elements', common"
   ]
  },
  {
   "cell_type": "code",
   "execution_count": 233,
   "id": "74ed90db-1cc8-4ae8-899e-9a7aae34c5d4",
   "metadata": {},
   "outputs": [
    {
     "data": {
      "text/plain": [
       "('the common elements', [2, 4, 21])"
      ]
     },
     "execution_count": 233,
     "metadata": {},
     "output_type": "execute_result"
    }
   ],
   "source": [
    "l1=[1,2,3,4,22,21]\n",
    "l2=[2,33,21,4]\n",
    "find_common(l1,l2)"
   ]
  },
  {
   "cell_type": "markdown",
   "id": "62909a6f-3fdb-4d8a-9527-ea334ef8ebdd",
   "metadata": {},
   "source": [
    "22. Find the difference between two lists."
   ]
  },
  {
   "cell_type": "code",
   "execution_count": 260,
   "id": "e8fb16d3-ce44-4d75-9978-f944bccab882",
   "metadata": {},
   "outputs": [],
   "source": [
    "def find_differ(l1,l2):\n",
    "    l3=l1+l2\n",
    "    different=[]\n",
    "    for i in l3:\n",
    "        if i not in l2:\n",
    "            different.append(i)\n",
    "        elif i not in l1:\n",
    "            different.append(i)\n",
    "    print('the differen between two list is', different)"
   ]
  },
  {
   "cell_type": "code",
   "execution_count": 261,
   "id": "6710030a-04bb-4b54-a577-d742f265d7b6",
   "metadata": {},
   "outputs": [
    {
     "name": "stdout",
     "output_type": "stream",
     "text": [
      "the differen between two list is [1, 3, 22, 33]\n"
     ]
    }
   ],
   "source": [
    "l1=[1,2,3,4,22,21]\n",
    "l2=[2,33,21,4]\n",
    "find_differ(l1,l2)"
   ]
  },
  {
   "cell_type": "markdown",
   "id": "70937a0b-b8a7-4588-8a6d-989b4e400b9b",
   "metadata": {},
   "source": [
    "23. Merge two lists."
   ]
  },
  {
   "cell_type": "code",
   "execution_count": 262,
   "id": "49cbc1d6-d98e-437f-b1f9-1e0f9fea6b2a",
   "metadata": {},
   "outputs": [
    {
     "name": "stdout",
     "output_type": "stream",
     "text": [
      "[1, 2, 3, 4, 22, 21, 2, 33, 21, 4]\n"
     ]
    }
   ],
   "source": [
    "l1=[1,2,3,4,22,21]\n",
    "l2=[2,33,21,4]\n",
    "merge_list=l1+l2\n",
    "print(merge_list)"
   ]
  },
  {
   "cell_type": "markdown",
   "id": "5db29b0d-f820-4ce0-8f70-d95532977a51",
   "metadata": {},
   "source": [
    "24. Multiply all elements in a list by 2"
   ]
  },
  {
   "cell_type": "code",
   "execution_count": 277,
   "id": "c7cef71b-0a2d-4fc2-9c3c-ae00eee4f1f0",
   "metadata": {},
   "outputs": [],
   "source": [
    "def multiply_2(l):\n",
    "    mulitplied_list=[]\n",
    "    for i in l:\n",
    "        i=i*2\n",
    "        mulitplied_list.append(i)\n",
    "    return mulitplied_list"
   ]
  },
  {
   "cell_type": "code",
   "execution_count": 278,
   "id": "ebee7d15-7e0c-452f-8cec-673e509a93a2",
   "metadata": {},
   "outputs": [
    {
     "data": {
      "text/plain": [
       "[2, 4, 6, 8, 10]"
      ]
     },
     "execution_count": 278,
     "metadata": {},
     "output_type": "execute_result"
    }
   ],
   "source": [
    "l=[1,2,3,4,5]\n",
    "multiply_2(l)"
   ]
  },
  {
   "cell_type": "markdown",
   "id": "2da5114d-52e4-4a89-9ce0-ed698765e350",
   "metadata": {},
   "source": [
    " 25. Filter out all even numbers from a list."
   ]
  },
  {
   "cell_type": "code",
   "execution_count": 279,
   "id": "f0b5a68b-b3bf-4d87-9c93-468162508014",
   "metadata": {},
   "outputs": [],
   "source": [
    "def find_even(l):\n",
    "    even=[]\n",
    "    for i in l:\n",
    "        if i%2==0:\n",
    "            even.append(i)\n",
    "    return even"
   ]
  },
  {
   "cell_type": "code",
   "execution_count": 280,
   "id": "b6350091-c304-43bf-812c-7270b5cb591f",
   "metadata": {},
   "outputs": [
    {
     "data": {
      "text/plain": [
       "[2, 4, 6, 8, 8, 10]"
      ]
     },
     "execution_count": 280,
     "metadata": {},
     "output_type": "execute_result"
    }
   ],
   "source": [
    "l1=[1,2,3,4,5,6,7,8,7,8,9,10]\n",
    "find_even(l1)"
   ]
  },
  {
   "cell_type": "markdown",
   "id": "51531bd0-7fdb-4209-858f-f89ca9d1473e",
   "metadata": {},
   "source": [
    " 26. Convert a list of strings to a list of integers."
   ]
  },
  {
   "cell_type": "code",
   "execution_count": 294,
   "id": "1e319d5a-9a55-421e-9d0c-06cd4fd47146",
   "metadata": {},
   "outputs": [
    {
     "name": "stdout",
     "output_type": "stream",
     "text": [
      "[1, 2, 3, 4]\n"
     ]
    }
   ],
   "source": [
    "a=['1','2','3','4']\n",
    "b=[]\n",
    "for i in a:\n",
    "    i=int(i)\n",
    "    b.append(i)\n",
    "print(b)"
   ]
  },
  {
   "cell_type": "markdown",
   "id": "282b2574-f8e4-47ce-be4f-c6f75f1dc380",
   "metadata": {},
   "source": [
    " 27. Convert a list of integers to a list of strings."
   ]
  },
  {
   "cell_type": "code",
   "execution_count": 295,
   "id": "278b3e28-aa54-4a56-bae5-04131a3d192c",
   "metadata": {},
   "outputs": [
    {
     "name": "stdout",
     "output_type": "stream",
     "text": [
      "['1', '2', '3', '4', '5']\n"
     ]
    }
   ],
   "source": [
    "l=[1,2,3,4,5]\n",
    "c=[]\n",
    "for i in l:\n",
    "    i=str(i)\n",
    "    c.append(i)\n",
    "print(c)"
   ]
  },
  {
   "cell_type": "markdown",
   "id": "745a087f-2787-41fc-901e-4d6b87fb294b",
   "metadata": {},
   "source": [
    "28. Flatten a nested list."
   ]
  },
  {
   "cell_type": "code",
   "execution_count": 369,
   "id": "ce8dda75-a625-4864-a271-24cdd1ca84b5",
   "metadata": {},
   "outputs": [],
   "source": [
    "nest = [[1, 2, 3], [4, 5], [6, 7, 8, 9]]\n",
    "\n",
    "def nested_list(l):\n",
    "    b=[]\n",
    "    for sub in l:\n",
    "        for i in sub:\n",
    "            i=str(i)\n",
    "            b.append(i)\n",
    "    return b"
   ]
  },
  {
   "cell_type": "code",
   "execution_count": 371,
   "id": "4d33912b-2a14-43b9-9a3f-bc1ea357a054",
   "metadata": {},
   "outputs": [
    {
     "data": {
      "text/plain": [
       "['1', '2', '3', '4', '5', '6', '7', '8', '9']"
      ]
     },
     "execution_count": 371,
     "metadata": {},
     "output_type": "execute_result"
    }
   ],
   "source": [
    "nested_list(nest)"
   ]
  },
  {
   "cell_type": "markdown",
   "id": "fe04080c-2090-4662-b6c0-99e45de60cbe",
   "metadata": {},
   "source": [
    "29. Create a list of the first 10 Fibonacci numbers."
   ]
  },
  {
   "cell_type": "code",
   "execution_count": 398,
   "id": "1d6277d3-c64f-4287-993f-c4660c55bf66",
   "metadata": {},
   "outputs": [],
   "source": [
    "def fib_series(n):\n",
    "    f1=0\n",
    "    f2=1\n",
    "    nextfib=f2\n",
    "    count=1\n",
    "    fib=[]\n",
    "    while count <=n:\n",
    "        fib.append(nextfib)\n",
    "        f1,f2=f2,nextfib\n",
    "        nextfib=f1+f2\n",
    "        count+=1\n",
    "    return fib"
   ]
  },
  {
   "cell_type": "code",
   "execution_count": 400,
   "id": "06dd2a5b-6320-4066-a407-540d21d0888c",
   "metadata": {},
   "outputs": [
    {
     "data": {
      "text/plain": [
       "[1, 2, 3, 5, 8, 13, 21, 34, 55, 89]"
      ]
     },
     "execution_count": 400,
     "metadata": {},
     "output_type": "execute_result"
    }
   ],
   "source": [
    "fib_series(10)"
   ]
  },
  {
   "cell_type": "markdown",
   "id": "ae03629d-9662-481d-a13f-4cdba698b61f",
   "metadata": {},
   "source": [
    "30. Check if a list is sorted"
   ]
  },
  {
   "cell_type": "code",
   "execution_count": 37,
   "id": "251fb046-9ee3-468e-b324-f6049fc9b6a1",
   "metadata": {},
   "outputs": [],
   "source": [
    "def check_sort(l):\n",
    "    if l==sorted(l):\n",
    "        print(\"Yes the list is sorted\")\n",
    "    else:\n",
    "        print(\"No the list is not sorted\")"
   ]
  },
  {
   "cell_type": "code",
   "execution_count": 39,
   "id": "fb626e88-9866-4e34-8694-bc655c73aa09",
   "metadata": {},
   "outputs": [
    {
     "name": "stdout",
     "output_type": "stream",
     "text": [
      "No the list is not sorted\n"
     ]
    }
   ],
   "source": [
    "list1=[1,3,4,5,6,0]\n",
    "check_sort(list1)"
   ]
  },
  {
   "cell_type": "code",
   "execution_count": 40,
   "id": "f04a789d-a6fd-4d61-bf0e-2bd4904ce3fb",
   "metadata": {},
   "outputs": [
    {
     "name": "stdout",
     "output_type": "stream",
     "text": [
      "Yes the list is sorted\n"
     ]
    }
   ],
   "source": [
    "a=[1,2,4,5,6,6,7,]\n",
    "check_sort(a)"
   ]
  },
  {
   "cell_type": "markdown",
   "id": "4ff7128f-8b6d-46f2-8447-41bab7b5a124",
   "metadata": {},
   "source": [
    "31. Rotate a list to the left by `n` positions."
   ]
  },
  {
   "cell_type": "code",
   "execution_count": 41,
   "id": "7b54f7a1-7b6e-4e42-80aa-acf56284a6c2",
   "metadata": {},
   "outputs": [],
   "source": [
    "def Rotate_list_left(l,n):\n",
    "    n=n%len(l)\n",
    "    modified_list=l[n:]+l[:n]\n",
    "    return modified_list"
   ]
  },
  {
   "cell_type": "code",
   "execution_count": 43,
   "id": "573a2b4e-0742-4e10-a7c3-e0c7c8a0256a",
   "metadata": {},
   "outputs": [
    {
     "data": {
      "text/plain": [
       "[3, 4, 5, 6, 1, 2]"
      ]
     },
     "execution_count": 43,
     "metadata": {},
     "output_type": "execute_result"
    }
   ],
   "source": [
    "list1=[1,2,3,4,5,6]\n",
    "Rotate_list_left(list1,2)"
   ]
  },
  {
   "cell_type": "markdown",
   "id": "8363e47d-143e-4ece-bb90-6bdfe5c3014b",
   "metadata": {},
   "source": [
    " 32. Rotate a list to the right by `n` positions."
   ]
  },
  {
   "cell_type": "code",
   "execution_count": 70,
   "id": "bc254f2e-392d-44c4-a6bb-91c7422ce881",
   "metadata": {},
   "outputs": [],
   "source": [
    "def Rotate_list_right(l,n):\n",
    "    n=n%len(l)\n",
    "    modified_list=l[-n:]+l[:-1]\n",
    "    return modified_list"
   ]
  },
  {
   "cell_type": "code",
   "execution_count": 71,
   "id": "6bcdb316-f128-47fa-ae5c-f70b8d503f9a",
   "metadata": {},
   "outputs": [
    {
     "data": {
      "text/plain": [
       "[3, 4, 5, 6, 1, 2, 3, 4, 5]"
      ]
     },
     "execution_count": 71,
     "metadata": {},
     "output_type": "execute_result"
    }
   ],
   "source": [
    "list1=[1,2,3,4,5,6]\n",
    "Rotate_list_right(list1,4)"
   ]
  },
  {
   "cell_type": "markdown",
   "id": "8762bfe0-d08a-46c5-8889-c71d441be373",
   "metadata": {},
   "source": [
    " 33. Create a list of prime numbers up to 50"
   ]
  },
  {
   "cell_type": "code",
   "execution_count": 7,
   "id": "78702b6b-7767-4c5e-a8b8-c712f788acc5",
   "metadata": {},
   "outputs": [],
   "source": [
    "def get_prime(n):\n",
    "    list1=[]\n",
    "    list2=range(2,n+1)\n",
    "    prime=[]\n",
    "    for i in range(2,n+1):\n",
    "        for j in range(2,n+1):\n",
    "            if j<i and i%j==0:\n",
    "                list1.append(i)\n",
    "    for i in list2:\n",
    "        if i not in list1:\n",
    "            prime.append(i)\n",
    "    return prime"
   ]
  },
  {
   "cell_type": "code",
   "execution_count": 8,
   "id": "45b6d383-7702-4f51-94f3-14d55b0b1f38",
   "metadata": {},
   "outputs": [
    {
     "data": {
      "text/plain": [
       "[2, 3, 5, 7, 11, 13]"
      ]
     },
     "execution_count": 8,
     "metadata": {},
     "output_type": "execute_result"
    }
   ],
   "source": [
    "get_prime(15)"
   ]
  },
  {
   "cell_type": "markdown",
   "id": "53a05624-fc1f-45c0-9298-a454de77e66c",
   "metadata": {},
   "source": [
    " 34. Split a list into chunks of size `n`"
   ]
  },
  {
   "cell_type": "code",
   "execution_count": 87,
   "id": "78568958-143d-4d3e-8df3-782b441f31d0",
   "metadata": {},
   "outputs": [
    {
     "name": "stdout",
     "output_type": "stream",
     "text": [
      "['a', 'b', 'c', 'd']\n",
      "['e', 'f', 'g', 'h']\n",
      "['i']\n"
     ]
    }
   ],
   "source": [
    "n=4\n",
    "end=len(list1)\n",
    "list1=['a','b','c','d','e','f','g','h','i']\n",
    "for i in range(0,end,n):\n",
    "    print(list1[i:i+n])\n",
    "    "
   ]
  },
  {
   "cell_type": "markdown",
   "id": "fe1f6bc8-15ce-41ce-85d1-f647267daf0c",
   "metadata": {},
   "source": [
    " 35. Find the second largest number in a list."
   ]
  },
  {
   "cell_type": "code",
   "execution_count": 222,
   "id": "ad0ecd8c-6522-4ce1-8ffe-414f723a4ad0",
   "metadata": {},
   "outputs": [],
   "source": [
    "def second_largest(l):\n",
    "    a=sorted(l)\n",
    "    print('the second largest number is', a[-2])"
   ]
  },
  {
   "cell_type": "code",
   "execution_count": 223,
   "id": "23ff9d1d-9749-40c8-a91c-24da010080a3",
   "metadata": {},
   "outputs": [
    {
     "name": "stdout",
     "output_type": "stream",
     "text": [
      "the second largest number is 4\n"
     ]
    }
   ],
   "source": [
    "list2=[5,4,3,2,1]\n",
    "second_largest(list2)"
   ]
  },
  {
   "cell_type": "markdown",
   "id": "eafb3b59-7ec8-4659-889c-95ebc028e53d",
   "metadata": {},
   "source": [
    " 36. Replace every element in a list with its square"
   ]
  },
  {
   "cell_type": "code",
   "execution_count": 226,
   "id": "d7510ae1-a3dd-4f37-9fb3-2c98d333f38d",
   "metadata": {},
   "outputs": [],
   "source": [
    "def replace_to_square(l):\n",
    "    sq_list=[]\n",
    "    for i in l:\n",
    "        i=i**2\n",
    "        sq_list.append(i)\n",
    "    return sq_list"
   ]
  },
  {
   "cell_type": "code",
   "execution_count": 228,
   "id": "98da6f88-e31d-4a02-8b25-114d6cd5994f",
   "metadata": {},
   "outputs": [
    {
     "data": {
      "text/plain": [
       "[25, 16, 9, 4, 1]"
      ]
     },
     "execution_count": 228,
     "metadata": {},
     "output_type": "execute_result"
    }
   ],
   "source": [
    "list2=[5,4,3,2,1]\n",
    "replace_to_square(list2)"
   ]
  },
  {
   "cell_type": "markdown",
   "id": "9ed821c8-7d87-442a-81f4-f6a2b4bb5117",
   "metadata": {},
   "source": [
    " 37. Convert a list to a dictionary where list elements become keys and their \n",
    "indices become values."
   ]
  },
  {
   "cell_type": "code",
   "execution_count": 22,
   "id": "ed4a9203-17ae-4156-a7b4-2270e5fa4c9c",
   "metadata": {},
   "outputs": [
    {
     "data": {
      "text/plain": [
       "{'my': 0, 'name': 1, 'is': 2, 'rohit': 3}"
      ]
     },
     "execution_count": 22,
     "metadata": {},
     "output_type": "execute_result"
    }
   ],
   "source": [
    "list1=[\"my\",\"name\",\"is\",\"rohit\"]\n",
    "converted_to_dictionary= {i:list1.index(i) for i in list1}\n",
    "converted_to_dictionary"
   ]
  },
  {
   "cell_type": "markdown",
   "id": "feedf2e9-c4e0-4558-96bb-d25d5323b8a9",
   "metadata": {},
   "source": [
    "38. Shuffle the elements of a list randomly"
   ]
  },
  {
   "cell_type": "code",
   "execution_count": 248,
   "id": "ac5f1fcb-9656-4295-ab6e-110d14ce8471",
   "metadata": {},
   "outputs": [
    {
     "name": "stdout",
     "output_type": "stream",
     "text": [
      "[11, 1, 12, 5, 4, 2, 4, 74, 4, 5, 5, 6, 2]\n"
     ]
    }
   ],
   "source": [
    "import random\n",
    "my_list=[1,2,4,5,5,6,74,4,5,4,2,11,12]\n",
    "random.shuffle(my_list)\n",
    "print(my_list)"
   ]
  },
  {
   "cell_type": "markdown",
   "id": "0487e3f0-b7b1-46e9-ad18-0e3ca3ed8054",
   "metadata": {},
   "source": [
    "39. Create a list of the first 10 factorial numbers"
   ]
  },
  {
   "cell_type": "code",
   "execution_count": 255,
   "id": "a6b19377-e754-46f6-8ab2-b26bf18346a9",
   "metadata": {},
   "outputs": [
    {
     "name": "stdout",
     "output_type": "stream",
     "text": [
      "[1, 1, 2, 6, 24, 120, 720, 5040, 40320, 362880]\n"
     ]
    }
   ],
   "source": [
    "def facto(l):\n",
    "    if l==0 or l==1:\n",
    "        return 1\n",
    "    else:\n",
    "        return l*facto(l-1)\n",
    "factorial=[facto(i) for i in range(10)]\n",
    "print(factorial)"
   ]
  },
  {
   "cell_type": "markdown",
   "id": "c88f9905-0f6f-4754-b3bd-596ed4370c7c",
   "metadata": {},
   "source": [
    " 40. Check if two lists have at least one element in common"
   ]
  },
  {
   "cell_type": "code",
   "execution_count": 304,
   "id": "5ead4718-6649-433c-92db-d9bd39e19200",
   "metadata": {},
   "outputs": [],
   "source": [
    "l1=[1,2,3,4]\n",
    "l2=[5,6,6,4]\n",
    "def check_for_common(l1,l2):\n",
    "    a=False\n",
    "    for i in l1:\n",
    "        if i in l2:\n",
    "            a=True\n",
    "    if a:\n",
    "        print(\"There is common element\")\n",
    "    else:\n",
    "        print(\"no common element found\")"
   ]
  },
  {
   "cell_type": "code",
   "execution_count": 305,
   "id": "6cd1b407-80e8-4bf3-b35f-b2f553e78a28",
   "metadata": {},
   "outputs": [
    {
     "name": "stdout",
     "output_type": "stream",
     "text": [
      "There is common element\n"
     ]
    }
   ],
   "source": [
    "check_for_common(l1,l2)"
   ]
  },
  {
   "cell_type": "markdown",
   "id": "0d258eee-a8e3-4fc7-94c8-27616d238243",
   "metadata": {},
   "source": [
    " 41. Remove all elements from a list."
   ]
  },
  {
   "cell_type": "code",
   "execution_count": 315,
   "id": "a62a165a-f637-4e3d-9b17-0b3d10111332",
   "metadata": {},
   "outputs": [
    {
     "name": "stdout",
     "output_type": "stream",
     "text": [
      "Clear_list: []\n"
     ]
    }
   ],
   "source": [
    "list1=['r','o','h','i','t']\n",
    "list1.clear()\n",
    "print(\"Clear_list:\", list1)"
   ]
  },
  {
   "cell_type": "markdown",
   "id": "6ff869f6-4e02-4f87-950c-aec6a5dded30",
   "metadata": {},
   "source": [
    " 42. Replace negative numbers in a list with 0."
   ]
  },
  {
   "cell_type": "code",
   "execution_count": 318,
   "id": "93c4d17d-67ae-495a-8580-707ca8f6d3e5",
   "metadata": {},
   "outputs": [
    {
     "name": "stdout",
     "output_type": "stream",
     "text": [
      "[1, 2, 3, 0, 0]\n"
     ]
    }
   ],
   "source": [
    "a=[1,2,3,-2,-1]\n",
    "b=[]\n",
    "for i in a:\n",
    "    if i<0:\n",
    "        b.append(int(i==0))\n",
    "    else:\n",
    "        b.append(i)\n",
    "print(b)"
   ]
  },
  {
   "cell_type": "markdown",
   "id": "c1ce119a-d210-4646-ab34-ad1ef61f0e7f",
   "metadata": {},
   "source": [
    " 43. Convert a string into a list of words"
   ]
  },
  {
   "cell_type": "code",
   "execution_count": 321,
   "id": "cc167f78-22df-495f-8906-6e25a2502c36",
   "metadata": {},
   "outputs": [
    {
     "name": "stdout",
     "output_type": "stream",
     "text": [
      "['my', 'name', 'is', 'rohit']\n"
     ]
    }
   ],
   "source": [
    "string1= 'my name is rohit'\n",
    "list1= string1.split()\n",
    "print(list1)"
   ]
  },
  {
   "cell_type": "markdown",
   "id": "5983b54f-d54a-4e90-8c1d-97f465428e99",
   "metadata": {},
   "source": [
    " 44. Convert a list of words into a string"
   ]
  },
  {
   "cell_type": "code",
   "execution_count": 322,
   "id": "cb2caecf-6636-4ea0-a399-96008a1fa2bf",
   "metadata": {},
   "outputs": [
    {
     "name": "stdout",
     "output_type": "stream",
     "text": [
      "my name is rohit\n"
     ]
    }
   ],
   "source": [
    "list=['my', 'name', 'is', 'rohit']\n",
    "string2=' '.join(list)\n",
    "print(string2)"
   ]
  },
  {
   "cell_type": "markdown",
   "id": "0c309c41-8ca8-4a4f-8e6c-585cd0ec8596",
   "metadata": {},
   "source": [
    " 45. Create a list of the first `n` powers of 2."
   ]
  },
  {
   "cell_type": "code",
   "execution_count": 336,
   "id": "5e6fc0dc-df5e-4efa-b5b9-d3cc41bbf04b",
   "metadata": {},
   "outputs": [
    {
     "name": "stdout",
     "output_type": "stream",
     "text": [
      "the 10 powers of 2 are [1, 2, 4, 8, 16, 32, 64, 128, 256, 512, 1024]\n"
     ]
    }
   ],
   "source": [
    "n=10\n",
    "a=[]\n",
    "for i in range(n+1):\n",
    "    i=2**i\n",
    "    a.append(i)\n",
    "print('the',n, 'powers of 2 are', a)"
   ]
  },
  {
   "cell_type": "markdown",
   "id": "1f90aa28-f183-4273-8ef8-0e1889ca27ff",
   "metadata": {},
   "source": [
    " 46. Find the longest string in a list of strings"
   ]
  },
  {
   "cell_type": "code",
   "execution_count": 358,
   "id": "c07be408-9483-4b90-9143-259adcf814d3",
   "metadata": {},
   "outputs": [],
   "source": [
    "from functools import reduce\n",
    "def longest_string(l):\n",
    "    maxstr=reduce(lambda x,y: x if len(x)>len(y) else y,l)\n",
    "    print('The longest string is->', maxstr)"
   ]
  },
  {
   "cell_type": "code",
   "execution_count": 359,
   "id": "5a68f968-0744-4ee3-90b1-ee129b36962f",
   "metadata": {},
   "outputs": [
    {
     "name": "stdout",
     "output_type": "stream",
     "text": [
      "The longest string is-> Rohit\n"
     ]
    }
   ],
   "source": [
    "a=['my','name','is',\"Rohit\"]\n",
    "longest_string(a)"
   ]
  },
  {
   "cell_type": "markdown",
   "id": "03603086-ce85-4802-9ac0-266721be17be",
   "metadata": {},
   "source": [
    "47. Find the shortest string in a list of strings"
   ]
  },
  {
   "cell_type": "code",
   "execution_count": 361,
   "id": "a29b943b-10fe-4f0f-8b33-a50faba002b3",
   "metadata": {},
   "outputs": [],
   "source": [
    "from functools import reduce\n",
    "def shortest_str(l):\n",
    "    minstr=reduce(lambda x,y: x if len(x)<len(y) else y,l)\n",
    "    print('The shortest string is->', minstr)"
   ]
  },
  {
   "cell_type": "code",
   "execution_count": 362,
   "id": "e05ac411-7c19-4647-850f-2f53d1aaa375",
   "metadata": {},
   "outputs": [
    {
     "name": "stdout",
     "output_type": "stream",
     "text": [
      "The shortest string is-> is\n"
     ]
    }
   ],
   "source": [
    "a=['my','name','is',\"Rohit\"]\n",
    "shortest_str(a)"
   ]
  },
  {
   "cell_type": "markdown",
   "id": "79a7f2c8-7d4c-4046-b1fc-f40b7d9e1719",
   "metadata": {},
   "source": [
    "48. Create a list of the first `n` triangular numbers"
   ]
  },
  {
   "cell_type": "code",
   "execution_count": 18,
   "id": "b138a637-ef3b-435f-b4b8-8c850847629e",
   "metadata": {},
   "outputs": [],
   "source": [
    "def triangular_numbers(n):\n",
    "    triangular_list=[]\n",
    "    for i in range(1,n+1):\n",
    "        i=i*(i+1)//2\n",
    "        triangular_list.append(i)\n",
    "    return triangular_list"
   ]
  },
  {
   "cell_type": "code",
   "execution_count": 19,
   "id": "75922eb1-79d9-42e9-b9d2-fe96cc0f5d0f",
   "metadata": {},
   "outputs": [
    {
     "data": {
      "text/plain": [
       "[1, 3, 6, 10, 15]"
      ]
     },
     "execution_count": 19,
     "metadata": {},
     "output_type": "execute_result"
    }
   ],
   "source": [
    "triangular_numbers(5)"
   ]
  },
  {
   "cell_type": "markdown",
   "id": "2f2848b1-340c-44c4-9b05-831ce68935e5",
   "metadata": {},
   "source": [
    " 49. Check if a list contains another list as a subsequence"
   ]
  },
  {
   "cell_type": "code",
   "execution_count": 42,
   "id": "1b5db205-c9ab-40fd-bb9c-ed624a50822e",
   "metadata": {},
   "outputs": [],
   "source": [
    "def check_subsequence(s1,s2):\n",
    "    for element in s2:\n",
    "        if element in s1:\n",
    "            continue\n",
    "        else:\n",
    "            return \"it does not contain another list as a subsequense\"\n",
    "    return \"it does contain another list as a subsequense\""
   ]
  },
  {
   "cell_type": "code",
   "execution_count": 43,
   "id": "c917bf83-7f35-43dd-bfc9-bf6f7f34b822",
   "metadata": {},
   "outputs": [
    {
     "data": {
      "text/plain": [
       "'it does not contain another list as a subsequense'"
      ]
     },
     "execution_count": 43,
     "metadata": {},
     "output_type": "execute_result"
    }
   ],
   "source": [
    "l1=[1,2,3,4,5,6,7,8,9]\n",
    "l2=[2,9,15]\n",
    "check_subsequence(l1,l2)"
   ]
  },
  {
   "cell_type": "markdown",
   "id": "c6f3a043-65c5-40d1-ba7f-3805e4d84f83",
   "metadata": {},
   "source": [
    "50. Swap two elements in a list by their indices."
   ]
  },
  {
   "cell_type": "code",
   "execution_count": 45,
   "id": "11697d9b-be49-40a6-a697-f96ad9e1b1af",
   "metadata": {},
   "outputs": [
    {
     "name": "stdout",
     "output_type": "stream",
     "text": [
      "The list after swapping [1, 2, 6, 4, 5, 3]\n"
     ]
    }
   ],
   "source": [
    "list =[1,2,3,4,5,6]\n",
    "index1=2\n",
    "index2=5\n",
    "\n",
    "list[index1],list[index2]=list[index2],list[index1]\n",
    "print(\"The list after swapping\",list)    #list after swapping"
   ]
  },
  {
   "cell_type": "markdown",
   "id": "7a70fc54-aa54-4012-8767-1212d6fc2a58",
   "metadata": {},
   "source": [
    "### Tuple Based Practice Problem :"
   ]
  },
  {
   "cell_type": "markdown",
   "id": "87c0d656-e262-4833-902b-7d4674d0b110",
   "metadata": {},
   "source": [
    " 1. Create a tuple with integers from 1 to 5."
   ]
  },
  {
   "cell_type": "code",
   "execution_count": 47,
   "id": "b0002c57-e218-41d6-a116-c956060da84a",
   "metadata": {},
   "outputs": [
    {
     "name": "stdout",
     "output_type": "stream",
     "text": [
      "This is my 1st tuple with integers (1, 2, 3, 4, 5)\n"
     ]
    }
   ],
   "source": [
    "t1=(1,2,3,4,5) \n",
    "\n",
    "print(\"This is my 1st tuple with integers\", t1)"
   ]
  },
  {
   "cell_type": "markdown",
   "id": "045cd943-7ec8-4f03-83ff-e69b994f12cb",
   "metadata": {},
   "source": [
    " 2. Access the third element of a tuple."
   ]
  },
  {
   "cell_type": "code",
   "execution_count": 49,
   "id": "92af7d99-4f9d-476c-9333-b5ebb4ecff91",
   "metadata": {},
   "outputs": [
    {
     "name": "stdout",
     "output_type": "stream",
     "text": [
      "the 3rd element of tuple is: 3\n"
     ]
    }
   ],
   "source": [
    "t1=(1,2,3,4,5) \n",
    "third_element=t1[2]\n",
    "print(\"the 3rd element of tuple is:\",third_element)\n"
   ]
  },
  {
   "cell_type": "markdown",
   "id": "7510fcca-4b4a-4781-87c5-34fc392dd0e2",
   "metadata": {},
   "source": [
    " 3. Find the length of a tuple without using the `len()` function."
   ]
  },
  {
   "cell_type": "code",
   "execution_count": 53,
   "id": "e6ad6e15-8da8-4b6e-8b1f-7b27894b8179",
   "metadata": {},
   "outputs": [
    {
     "name": "stdout",
     "output_type": "stream",
     "text": [
      "The length of tuple: 5\n"
     ]
    }
   ],
   "source": [
    "t1=(1,2,3,4,5)\n",
    "count=0\n",
    "for i in t1:\n",
    "    count+=1\n",
    "print(\"The length of tuple:\",count)"
   ]
  },
  {
   "cell_type": "markdown",
   "id": "2b92dae5-35b3-46d2-b128-3966fe9f7c4b",
   "metadata": {},
   "source": [
    " 4. Count the occurrences of an element in a tuple."
   ]
  },
  {
   "cell_type": "code",
   "execution_count": 58,
   "id": "93b2364f-a677-432f-b2ca-af28ece40eea",
   "metadata": {},
   "outputs": [
    {
     "name": "stdout",
     "output_type": "stream",
     "text": [
      "The count of element is: 1\n"
     ]
    }
   ],
   "source": [
    "t2=('a','b','c','a','d','e','a','b')\n",
    "element='e'\n",
    "count=0\n",
    "for i in t2:\n",
    "    if i==element:\n",
    "        count+=1\n",
    "print(\"The count of element is:\",count)"
   ]
  },
  {
   "cell_type": "markdown",
   "id": "f913661f-ea06-4219-bee9-8ec28823bd95",
   "metadata": {},
   "source": [
    " 5. Find the index of the first occurrence of an element in a tuple."
   ]
  },
  {
   "cell_type": "code",
   "execution_count": 61,
   "id": "d5a7adba-2d97-4be8-a0b1-83ebb09e6b73",
   "metadata": {},
   "outputs": [
    {
     "name": "stdout",
     "output_type": "stream",
     "text": [
      "The element first occurence at index: 2\n"
     ]
    }
   ],
   "source": [
    "t2=('a','b','c','a','d','e','a','b')\n",
    "element='c'\n",
    "print(\"The element first occurence at index:\",t2.index(element))"
   ]
  },
  {
   "cell_type": "markdown",
   "id": "49d998a5-bbf2-491b-b688-5300faaaf176",
   "metadata": {},
   "source": [
    " 6. Check if an element exists in a tuple."
   ]
  },
  {
   "cell_type": "code",
   "execution_count": 62,
   "id": "6210f314-22c8-4dad-ad08-9472d742963b",
   "metadata": {},
   "outputs": [
    {
     "name": "stdin",
     "output_type": "stream",
     "text": [
      "enter a word my\n"
     ]
    },
    {
     "name": "stdout",
     "output_type": "stream",
     "text": [
      "yes element found in list\n"
     ]
    }
   ],
   "source": [
    "t3=('my,name,is,rohit')\n",
    "element=input(\"enter a word\")\n",
    "if element in t3:\n",
    "    print(\"yes element found in list\")\n",
    "else:\n",
    "    print(\"No element not found in list\")"
   ]
  },
  {
   "cell_type": "markdown",
   "id": "4561c4e7-7290-46ac-9583-d2287ac6b1a6",
   "metadata": {},
   "source": [
    " 7. Convert a tuple to a list."
   ]
  },
  {
   "cell_type": "code",
   "execution_count": 73,
   "id": "a15aba4c-d54d-4b2a-8770-5a8cdc9d4d53",
   "metadata": {},
   "outputs": [
    {
     "name": "stdout",
     "output_type": "stream",
     "text": [
      "Converted list is: [('my', 'name', 'is', 'rohit')]\n"
     ]
    }
   ],
   "source": [
    "t3=('my','name','is','rohit')\n",
    "converted_list=[t3]\n",
    "print(\"Converted list is:\",converted_list)"
   ]
  },
  {
   "cell_type": "markdown",
   "id": "80a81e40-797f-4c47-9f6b-c2c35c067311",
   "metadata": {},
   "source": [
    " 8. Convert a list to a tuple."
   ]
  },
  {
   "cell_type": "code",
   "execution_count": 69,
   "id": "98670f8e-b329-4030-9d4b-2bfa82a6c848",
   "metadata": {},
   "outputs": [
    {
     "name": "stdout",
     "output_type": "stream",
     "text": [
      "Converted list into a tuple: ('my,name,is,rohit',)\n"
     ]
    }
   ],
   "source": [
    "list1=['my,name,is,rohit']\n",
    "tuple1=tuple(list1)\n",
    "print(\"Converted list into a tuple:\",tuple1)"
   ]
  },
  {
   "cell_type": "markdown",
   "id": "c39a08c2-7ace-4710-ba0b-29ab12c2d13d",
   "metadata": {},
   "source": [
    " 9. Unpack the elements of a tuple into variables"
   ]
  },
  {
   "cell_type": "code",
   "execution_count": 78,
   "id": "ec99b22c-694f-4681-8c6a-bb1efe7cbc91",
   "metadata": {},
   "outputs": [
    {
     "name": "stdout",
     "output_type": "stream",
     "text": [
      "Variabele 1 is: my\n",
      "Variabele 2 is: name\n",
      "Variabele 3 is: is\n",
      "Variabele 4 is: rohit\n"
     ]
    }
   ],
   "source": [
    "t3=('my','name','is','rohit')\n",
    "variable=1\n",
    "for i in t3:\n",
    "    print(\"Variabele\",variable,\"is:\",i,end='\\n')\n",
    "    variable+=1\n"
   ]
  },
  {
   "cell_type": "markdown",
   "id": "1de87280-df15-482a-a759-822899cc10ce",
   "metadata": {},
   "source": [
    " 10. Create a tuple of even numbers from 1 to 10."
   ]
  },
  {
   "cell_type": "code",
   "execution_count": 98,
   "id": "514c3a07-56ff-4fc1-ad9a-49d6683d9413",
   "metadata": {},
   "outputs": [
    {
     "name": "stdout",
     "output_type": "stream",
     "text": [
      "Tuple of even number is: (2, 4, 6, 8, 10)\n"
     ]
    }
   ],
   "source": [
    "t4=tuple([i for i in range(1,11) if i%2==0])\n",
    "print(\"Tuple of even number is:\",t4)"
   ]
  },
  {
   "cell_type": "markdown",
   "id": "45c03b41-f3d2-4151-89c6-050a48d7872d",
   "metadata": {},
   "source": [
    " 11. Create a tuple of odd numbers from 1 to 10."
   ]
  },
  {
   "cell_type": "code",
   "execution_count": 100,
   "id": "66f83763-56a8-48a6-9755-fcb736e6eeab",
   "metadata": {},
   "outputs": [
    {
     "name": "stdout",
     "output_type": "stream",
     "text": [
      "Tuple of odd number is: (1, 3, 5, 7, 9)\n"
     ]
    }
   ],
   "source": [
    "t5=tuple([i for i in range(1,11) if i%2!=0])\n",
    "print(\"Tuple of odd number is:\",t5)"
   ]
  },
  {
   "cell_type": "markdown",
   "id": "a11b1d18-ae25-48a4-8101-bbb7d0d3b12c",
   "metadata": {},
   "source": [
    " 12. Concatenate two tuples."
   ]
  },
  {
   "cell_type": "code",
   "execution_count": 102,
   "id": "56660001-2111-4e90-846f-19d78ba9e213",
   "metadata": {},
   "outputs": [
    {
     "name": "stdout",
     "output_type": "stream",
     "text": [
      "Concatenated two tuples: (1, 2, 4, 5, 6, 7, 8, 9, 1)\n"
     ]
    }
   ],
   "source": [
    "tuple1=(1,2,4,5)\n",
    "tuple2=(6,7,8,9,1)\n",
    "modified_tuple=tuple1+tuple2\n",
    "print(\"Concatenated two tuples:\",modified_tuple)"
   ]
  },
  {
   "cell_type": "markdown",
   "id": "8edea17c-184c-4034-b755-185942386ab6",
   "metadata": {},
   "source": [
    " 13. Repeat a tuple three times."
   ]
  },
  {
   "cell_type": "code",
   "execution_count": 112,
   "id": "d88c283b-5602-40ac-ab00-20523a542f06",
   "metadata": {},
   "outputs": [
    {
     "name": "stdout",
     "output_type": "stream",
     "text": [
      "---------printed tuple 3 times----------\n",
      "('my', 'name', 'is', 'rohit') \n",
      " ('my', 'name', 'is', 'rohit') \n",
      " ('my', 'name', 'is', 'rohit')\n"
     ]
    }
   ],
   "source": [
    "tup1=('my','name','is','rohit')\n",
    "print(\"---------printed tuple 3 times----------\")\n",
    "print(tup1,'\\n',tup1,'\\n',tup1)"
   ]
  },
  {
   "cell_type": "markdown",
   "id": "362fc1ab-68f0-4333-9210-31b7c439d029",
   "metadata": {},
   "source": [
    " 14. Check if a tuple is empty"
   ]
  },
  {
   "cell_type": "code",
   "execution_count": 113,
   "id": "80439b50-4024-4adf-8d17-a07f219fa800",
   "metadata": {},
   "outputs": [
    {
     "name": "stdout",
     "output_type": "stream",
     "text": [
      "the given tuple is empty\n"
     ]
    }
   ],
   "source": [
    "t=()\n",
    "if len(t)==0:\n",
    "    print(\"the given tuple is empty\")\n",
    "else:\n",
    "    print(\"No the given tuple is not an empty\")"
   ]
  },
  {
   "cell_type": "markdown",
   "id": "09064189-7420-447e-92fc-f21b0f529426",
   "metadata": {},
   "source": [
    " 15. Create a nested tuple."
   ]
  },
  {
   "cell_type": "code",
   "execution_count": 114,
   "id": "5176e2ff-5247-4cde-bf74-374269a42fb1",
   "metadata": {},
   "outputs": [
    {
     "name": "stdout",
     "output_type": "stream",
     "text": [
      "Nested tuple: (1, 2, 3, (1, 2, 4), 5, 6)\n"
     ]
    }
   ],
   "source": [
    "nested_tup=(1,2,3,(1,2,4),5,6)\n",
    "print(\"Nested tuple:\",nested_tup)"
   ]
  },
  {
   "cell_type": "markdown",
   "id": "985c5d2e-c6c0-41e2-ac70-d9cd41df895f",
   "metadata": {},
   "source": [
    " 16. Access the first element of a nested tuple."
   ]
  },
  {
   "cell_type": "code",
   "execution_count": 115,
   "id": "7fee033a-ce87-4bdf-9ea4-2bf18e0fa784",
   "metadata": {},
   "outputs": [
    {
     "name": "stdout",
     "output_type": "stream",
     "text": [
      "First element: 1\n"
     ]
    }
   ],
   "source": [
    "nested_tup=(1,2,3,(1,2,4),5,6)\n",
    "first_element=nested_tup[0]\n",
    "print(\"First element:\",first_element)"
   ]
  },
  {
   "cell_type": "markdown",
   "id": "1f2b907d-8057-4c95-85fc-66812906a0c2",
   "metadata": {},
   "source": [
    " 17. Create a tuple with a single element."
   ]
  },
  {
   "cell_type": "code",
   "execution_count": 120,
   "id": "e213854d-e364-4dea-ae42-5eaa4d227a1a",
   "metadata": {},
   "outputs": [
    {
     "name": "stdout",
     "output_type": "stream",
     "text": [
      "This is the single element tuple: 4\n"
     ]
    }
   ],
   "source": [
    "tup2=(4)\n",
    "print(\"This is the single element tuple:\",tup2)"
   ]
  },
  {
   "cell_type": "markdown",
   "id": "fc7f53bb-480d-42e2-a199-efd7ed3fe9cd",
   "metadata": {},
   "source": [
    "18. Compare two tuples."
   ]
  },
  {
   "cell_type": "code",
   "execution_count": 122,
   "id": "a9414cc2-44d4-4c71-bca2-ea4b01541d7f",
   "metadata": {},
   "outputs": [
    {
     "name": "stdout",
     "output_type": "stream",
     "text": [
      "t1==t2 False\n",
      "t1!=t2 True\n",
      "t1<t2 True\n",
      "t1<=t2 True\n",
      "t1>t2 False\n",
      "t1>=t2 False\n"
     ]
    }
   ],
   "source": [
    "t1=(1,2,3)\n",
    "t2=(2,3,4)\n",
    "print(\"t1==t2\",t1==t2)\n",
    "print(\"t1!=t2\",t1!=t2)\n",
    "print(\"t1<t2\",t1<t2)\n",
    "print(\"t1<=t2\",t1<=t2)\n",
    "print(\"t1>t2\",t1>t2)\n",
    "print(\"t1>=t2\",t1>=t2)"
   ]
  },
  {
   "cell_type": "markdown",
   "id": "36fdcb4e-ec95-49df-8baa-362a358125a0",
   "metadata": {},
   "source": [
    " 19. Delete a tuple."
   ]
  },
  {
   "cell_type": "code",
   "execution_count": 124,
   "id": "5a03d02b-49b0-4908-93d4-e7b57637ba09",
   "metadata": {},
   "outputs": [
    {
     "ename": "NameError",
     "evalue": "name 't1' is not defined",
     "output_type": "error",
     "traceback": [
      "\u001b[1;31m---------------------------------------------------------------------------\u001b[0m",
      "\u001b[1;31mNameError\u001b[0m                                 Traceback (most recent call last)",
      "Cell \u001b[1;32mIn[124], line 3\u001b[0m\n\u001b[0;32m      1\u001b[0m t1\u001b[38;5;241m=\u001b[39m(\u001b[38;5;241m1\u001b[39m,\u001b[38;5;241m2\u001b[39m,\u001b[38;5;241m3\u001b[39m)\n\u001b[0;32m      2\u001b[0m \u001b[38;5;28;01mdel\u001b[39;00m t1\n\u001b[1;32m----> 3\u001b[0m \u001b[38;5;28mprint\u001b[39m(\u001b[38;5;124m\"\u001b[39m\u001b[38;5;124mnow tuple is deled\u001b[39m\u001b[38;5;124m\"\u001b[39m,\u001b[43mt1\u001b[49m)     \u001b[38;5;66;03m#it will not execute cause now there is no existence of t1\u001b[39;00m\n",
      "\u001b[1;31mNameError\u001b[0m: name 't1' is not defined"
     ]
    }
   ],
   "source": [
    "t1=(1,2,3)\n",
    "del t1\n",
    "print(\"now tuple is deled\",t1)     #it will not execute cause now there is no existence of t1"
   ]
  },
  {
   "cell_type": "markdown",
   "id": "f859a3d8-1c87-4cfa-adac-8ccabc0a63ae",
   "metadata": {},
   "source": [
    " 20. Slice a tuple."
   ]
  },
  {
   "cell_type": "code",
   "execution_count": 125,
   "id": "586cbae9-1cf3-467c-aa58-43be2ccb7bf2",
   "metadata": {},
   "outputs": [
    {
     "name": "stdout",
     "output_type": "stream",
     "text": [
      "Sliced touple: (4, 6, 8)\n"
     ]
    }
   ],
   "source": [
    "tuple4=(2,4,6,8,0)\n",
    "slice_tuple=tuple4[1:4]\n",
    "print(\"Sliced touple:\",slice_tuple)"
   ]
  },
  {
   "cell_type": "markdown",
   "id": "14373f24-94b8-49c3-93b8-bc2656373076",
   "metadata": {},
   "source": [
    " 21. Find the maximum value in a tuple."
   ]
  },
  {
   "cell_type": "code",
   "execution_count": 126,
   "id": "c1dae8c6-f776-48f1-a087-d9c759b7c7d3",
   "metadata": {},
   "outputs": [
    {
     "name": "stdout",
     "output_type": "stream",
     "text": [
      "Maximum value: 8\n"
     ]
    }
   ],
   "source": [
    "tuple4=(2,4,6,8,0)\n",
    "maximum=max(tuple4)\n",
    "print(\"Maximum value:\",maximum)"
   ]
  },
  {
   "cell_type": "markdown",
   "id": "985bc66b-2f74-415a-ba57-94e3ae851433",
   "metadata": {},
   "source": [
    "22. Find the minimum value in a tuple."
   ]
  },
  {
   "cell_type": "code",
   "execution_count": 127,
   "id": "a9e61bf6-73b4-441b-826e-7ca7c86af823",
   "metadata": {},
   "outputs": [
    {
     "name": "stdout",
     "output_type": "stream",
     "text": [
      "Minimum value: 0\n"
     ]
    }
   ],
   "source": [
    "tuple4=(2,4,6,8,0)\n",
    "minimum=min(tuple4)\n",
    "print(\"Minimum value:\",minimum)"
   ]
  },
  {
   "cell_type": "markdown",
   "id": "9e0060ba-f9a7-46f4-9a47-eb3bf7289668",
   "metadata": {},
   "source": [
    " 23. Convert a string to a tuple of characters."
   ]
  },
  {
   "cell_type": "code",
   "execution_count": 130,
   "id": "98983777-6798-402c-973b-ab5256da4c41",
   "metadata": {},
   "outputs": [
    {
     "name": "stdout",
     "output_type": "stream",
     "text": [
      "Converted tuple: ('My', 'name', 'is', 'rohit')\n"
     ]
    }
   ],
   "source": [
    "str1=\"My name is rohit\"\n",
    "conv_tuple=tuple(str1.split())\n",
    "print(\"Converted tuple:\",conv_tuple)"
   ]
  },
  {
   "cell_type": "markdown",
   "id": "d074522f-bfd4-41e6-9ba2-c5752aee6f49",
   "metadata": {},
   "source": [
    " 24. Convert a tuple of characters to a string."
   ]
  },
  {
   "cell_type": "code",
   "execution_count": 136,
   "id": "9762360b-e864-481b-a08e-748a278412fc",
   "metadata": {},
   "outputs": [
    {
     "name": "stdout",
     "output_type": "stream",
     "text": [
      "Converted string: My name is rohit\n"
     ]
    }
   ],
   "source": [
    "tuple5=('My', 'name', 'is', 'rohit')\n",
    "conv_to_str=' '.join(tuple5)\n",
    "print(\"Converted string:\",conv_to_str)"
   ]
  },
  {
   "cell_type": "markdown",
   "id": "cd07c698-1a55-4c51-b689-683229d494b1",
   "metadata": {},
   "source": [
    " 25. Create a tuple from multiple data types."
   ]
  },
  {
   "cell_type": "code",
   "execution_count": 137,
   "id": "cbe9d8f7-524e-427b-a184-7c8ee17578ae",
   "metadata": {},
   "outputs": [
    {
     "name": "stdout",
     "output_type": "stream",
     "text": [
      "Tuples with multiple data collection: ('my', 1, 1.4, True, (1+2j))\n"
     ]
    }
   ],
   "source": [
    "multiple_data=('my',1,1.4,True,2j+1)\n",
    "print(\"Tuples with multiple data collection:\",multiple_data)"
   ]
  },
  {
   "cell_type": "markdown",
   "id": "0dbb264b-5fd6-4a43-9f15-30ca68c5eab7",
   "metadata": {},
   "source": [
    " 26. Check if two tuples are identical."
   ]
  },
  {
   "cell_type": "code",
   "execution_count": 138,
   "id": "368b3a16-83f9-416d-b13a-037edd43e90c",
   "metadata": {},
   "outputs": [
    {
     "name": "stdout",
     "output_type": "stream",
     "text": [
      "Yes both the tuples are identical\n"
     ]
    }
   ],
   "source": [
    "tup1=(1,2,4)\n",
    "tup2=(1,2,4)\n",
    "if tup1==tup2:\n",
    "    print(\"Yes both the tuples are identical\")\n",
    "else:\n",
    "    print(\"No, the touples are not identical\")"
   ]
  },
  {
   "cell_type": "markdown",
   "id": "070121ac-eda1-47c2-9c2d-b67ac9abd226",
   "metadata": {},
   "source": [
    " 27. Sort the elements of a tuple.\n"
   ]
  },
  {
   "cell_type": "code",
   "execution_count": 143,
   "id": "842219e8-364d-4b8f-854c-740cc3d15c02",
   "metadata": {},
   "outputs": [
    {
     "name": "stdout",
     "output_type": "stream",
     "text": [
      "Sorted tuple: [0, 2, 3, 5, 8, 9]\n"
     ]
    }
   ],
   "source": [
    "tuple5=(9,8,5,3,2,0)\n",
    "sorted_tuple=sorted(tuple5)\n",
    "print(\"Sorted tuple:\",sorted_tuple)"
   ]
  },
  {
   "cell_type": "markdown",
   "id": "2c6f5bf0-5090-4479-a968-a7902d091131",
   "metadata": {},
   "source": [
    " 28. Convert a tuple of integers to a tuple of strings."
   ]
  },
  {
   "cell_type": "code",
   "execution_count": 164,
   "id": "4b9fc0d1-43f5-4d69-ac05-2925efd15b14",
   "metadata": {},
   "outputs": [
    {
     "name": "stdout",
     "output_type": "stream",
     "text": [
      "Converted tuple: ('9', '8', '5', '3', '2', '0')\n"
     ]
    }
   ],
   "source": [
    "tuple5=(9,8,5,3,2,0)\n",
    "converted_tuple=tuple(str(i) for i in tuple5)\n",
    "print(\"Converted tuple:\",converted_tuple)"
   ]
  },
  {
   "cell_type": "markdown",
   "id": "efc313ab-13aa-432d-a091-aa0cb167f25b",
   "metadata": {},
   "source": [
    " 29. Convert a tuple of strings to a tuple of integers."
   ]
  },
  {
   "cell_type": "code",
   "execution_count": 166,
   "id": "ac569b1d-58a1-42aa-b1c2-f5867d3138a6",
   "metadata": {},
   "outputs": [
    {
     "name": "stdout",
     "output_type": "stream",
     "text": [
      "Cnverted tuple: (9, 8, 5, 3, 2, 0)\n"
     ]
    }
   ],
   "source": [
    "tuple6=('9', '8', '5', '3', '2', '0')\n",
    "convert_tuple=tuple(int(i) for i in tuple6)\n",
    "print(\"Cnverted tuple:\", convert_tuple)"
   ]
  },
  {
   "cell_type": "markdown",
   "id": "fdfe38c9-3095-4824-bd14-e3728648f07b",
   "metadata": {},
   "source": [
    "30. Merge two tuples."
   ]
  },
  {
   "cell_type": "code",
   "execution_count": 167,
   "id": "c476d7f7-be1e-4116-8528-fc8a2b9f0c13",
   "metadata": {},
   "outputs": [
    {
     "name": "stdout",
     "output_type": "stream",
     "text": [
      "Merged tuple: ('My', 'Name', 'is', 'Rohit')\n"
     ]
    }
   ],
   "source": [
    "tuple1=('My','Name')\n",
    "tuple2=('is','Rohit')\n",
    "merge_tuple=tuple1+tuple2\n",
    "print(\"Merged tuple:\",merge_tuple)"
   ]
  },
  {
   "cell_type": "markdown",
   "id": "22d5808d-33b9-4bee-b130-6277faaef033",
   "metadata": {},
   "source": [
    " 31. Flatten a nested tuple"
   ]
  },
  {
   "cell_type": "code",
   "execution_count": 248,
   "id": "e7be6057-71e7-4ba4-a346-62776867926e",
   "metadata": {},
   "outputs": [],
   "source": [
    "nested_tuple = ((1, 2), (3, 4, 5), (6, (7, 8)))"
   ]
  },
  {
   "cell_type": "code",
   "execution_count": 287,
   "id": "c2b9890b-10c2-4e19-aae9-4d58bf201e2b",
   "metadata": {},
   "outputs": [],
   "source": [
    "def flat1(n):\n",
    "    a=[]\n",
    "    for sub in n:\n",
    "        if type(sub)==tuple:\n",
    "            a.extend(flat1(sub))\n",
    "        else:\n",
    "            a.append(sub)\n",
    "    return tuple(a)"
   ]
  },
  {
   "cell_type": "code",
   "execution_count": 288,
   "id": "cba74e27-81f4-4d1f-8914-26d4334c115a",
   "metadata": {},
   "outputs": [
    {
     "data": {
      "text/plain": [
       "(1, 2, 3, 4, 5, 6, 7, 8)"
      ]
     },
     "execution_count": 288,
     "metadata": {},
     "output_type": "execute_result"
    }
   ],
   "source": [
    "flat1(nested_tuple)"
   ]
  },
  {
   "cell_type": "markdown",
   "id": "7db55f0f-c036-4b91-b2dd-9b578cbbcd25",
   "metadata": {},
   "source": [
    " 32. Create a tuple of the first 5 prime numbers"
   ]
  },
  {
   "cell_type": "code",
   "execution_count": 9,
   "id": "62f9dae3-fe52-482e-8eec-d0c481bd2909",
   "metadata": {},
   "outputs": [],
   "source": [
    "def get_prime(n):\n",
    "    list1=[]\n",
    "    list2=range(2,n+1)\n",
    "    prime=[]\n",
    "    for i in range(2,n+1):\n",
    "        for j in range(2,n+1):\n",
    "            if j<i and i%j==0:\n",
    "                list1.append(i)\n",
    "    for i in list2:\n",
    "        if i not in list1:\n",
    "            prime.append(i)\n",
    "    return tuple(prime)"
   ]
  },
  {
   "cell_type": "code",
   "execution_count": 10,
   "id": "ea1a6acc-b66e-4cb8-a32e-c14368954f1b",
   "metadata": {},
   "outputs": [
    {
     "data": {
      "text/plain": [
       "(2, 3, 5, 7)"
      ]
     },
     "execution_count": 10,
     "metadata": {},
     "output_type": "execute_result"
    }
   ],
   "source": [
    "get_prime(10)"
   ]
  },
  {
   "cell_type": "markdown",
   "id": "91ee3a35-e346-4b07-81e9-80e7197740ed",
   "metadata": {},
   "source": [
    "33. Check if a tuple is a palindrome"
   ]
  },
  {
   "cell_type": "code",
   "execution_count": 79,
   "id": "9c3349e7-c27c-404e-a414-91899670678b",
   "metadata": {},
   "outputs": [
    {
     "name": "stdout",
     "output_type": "stream",
     "text": [
      "Yes the given tuple is palindrome\n"
     ]
    }
   ],
   "source": [
    "tuple1=(\"MOM\")\n",
    "if tuple1[:]==tuple1[::-1]:\n",
    "    print(\"Yes the given tuple is palindrome\")\n",
    "else:\n",
    "    print(\"No the tuple is not a palindrom\")"
   ]
  },
  {
   "cell_type": "markdown",
   "id": "e45719a4-ae33-438e-800e-04d7088c8e98",
   "metadata": {},
   "source": [
    "34. Create a tuple of squares of numbers from 1 to 5"
   ]
  },
  {
   "cell_type": "code",
   "execution_count": 96,
   "id": "77a4a8cf-1d60-4a84-b2e9-d6ffc80870e4",
   "metadata": {},
   "outputs": [
    {
     "name": "stdout",
     "output_type": "stream",
     "text": [
      "tuple of square: (1, 4, 9, 16, 25)\n"
     ]
    }
   ],
   "source": [
    "t1=range(1,6)\n",
    "tuple2=tuple([i**2 for i in t1])\n",
    "print(\"tuple of square:\",tuple2)"
   ]
  },
  {
   "cell_type": "markdown",
   "id": "5c95ad9a-d4e3-4e63-8b33-afb187a04a3a",
   "metadata": {},
   "source": [
    "35. Filter out all even numbers from a tuple."
   ]
  },
  {
   "cell_type": "code",
   "execution_count": 97,
   "id": "bcb0bb2e-cc35-47d6-9c07-52ae6f9877f9",
   "metadata": {},
   "outputs": [
    {
     "name": "stdout",
     "output_type": "stream",
     "text": [
      "tuple of even numbers: (0, 2, 4, 6, 8, 10)\n"
     ]
    }
   ],
   "source": [
    "t3=range(0,11)\n",
    "tuple3=tuple([i for i in t3 if i%2==0])\n",
    "print(\"tuple of even numbers:\",tuple3)"
   ]
  },
  {
   "cell_type": "markdown",
   "id": "e187924b-26cf-4e8d-95ce-9b8d68029683",
   "metadata": {},
   "source": [
    " 36. Multiply all elements in a tuple by 2"
   ]
  },
  {
   "cell_type": "code",
   "execution_count": 99,
   "id": "819abd16-e61a-4cae-a4b1-4f4f362c8f18",
   "metadata": {},
   "outputs": [
    {
     "name": "stdout",
     "output_type": "stream",
     "text": [
      "Multiplied elements by 2: (2, 4, 6, 8, 10, 12, 14, 16, 18, 20)\n"
     ]
    }
   ],
   "source": [
    "t4=range(1,11)\n",
    "tuple4=tuple([i*2 for i in t4])\n",
    "print(\"Multiplied elements by 2:\",tuple4)"
   ]
  },
  {
   "cell_type": "markdown",
   "id": "5cbddcb1-3021-426c-b9cf-89afac8a3873",
   "metadata": {},
   "source": [
    "37. Create a tuple of random numbers"
   ]
  },
  {
   "cell_type": "code",
   "execution_count": 100,
   "id": "f8be5710-e728-42bc-af4e-f9498a54e857",
   "metadata": {},
   "outputs": [],
   "source": [
    "import random"
   ]
  },
  {
   "cell_type": "code",
   "execution_count": 115,
   "id": "9e1e938c-0db7-4d50-8b2e-efa6ebceae5c",
   "metadata": {},
   "outputs": [
    {
     "name": "stdout",
     "output_type": "stream",
     "text": [
      "This is random number's tuple: (87, 77, 76, 39, 18, 89, 25, 56, 72, 15)\n"
     ]
    }
   ],
   "source": [
    "randum_tuple=tuple(random.randint(1,100) for i in range(10))\n",
    "print(\"This is random number's tuple:\",randum_tuple)"
   ]
  },
  {
   "cell_type": "markdown",
   "id": "b37c1e0d-be66-44e9-becb-17ce03659d57",
   "metadata": {},
   "source": [
    " 38. Check if a tuple is sorted"
   ]
  },
  {
   "cell_type": "code",
   "execution_count": 131,
   "id": "b848f107-4756-404b-8a64-5091c4549b1e",
   "metadata": {},
   "outputs": [
    {
     "name": "stdout",
     "output_type": "stream",
     "text": [
      "No the tuple is not sorted\n"
     ]
    }
   ],
   "source": [
    "t5=(1,4,6,3,2,0)\n",
    "if t5==tuple(sorted(t5)):\n",
    "    print(\"yes the tuple is sorted\")\n",
    "else:\n",
    "    print(\"No the tuple is not sorted\")"
   ]
  },
  {
   "cell_type": "markdown",
   "id": "2cad9186-d9fe-4c48-9d2b-b9e5bf7e005e",
   "metadata": {},
   "source": [
    " 39. Rotate a tuple to the left by `n` positions."
   ]
  },
  {
   "cell_type": "code",
   "execution_count": 135,
   "id": "17dd043d-ee93-4bc4-97ab-712645062997",
   "metadata": {},
   "outputs": [],
   "source": [
    "def rotate_tupleL(n,tuple):\n",
    "    n=n%len(tuple)\n",
    "    rotate_tuple=tuple[n:]+tuple[:n]\n",
    "    print(rotate_tuple)"
   ]
  },
  {
   "cell_type": "code",
   "execution_count": 136,
   "id": "9a167580-c08b-40f4-952a-43460d762db8",
   "metadata": {},
   "outputs": [
    {
     "name": "stdout",
     "output_type": "stream",
     "text": [
      "(3, 4, 5, 1, 2)\n"
     ]
    }
   ],
   "source": [
    "tup1=(1,2,3,4,5)\n",
    "rotate_tupleL(2,tup1)"
   ]
  },
  {
   "cell_type": "markdown",
   "id": "4fdfb6d1-f903-4222-a969-2c7b5dc27074",
   "metadata": {},
   "source": [
    "40. Rotate a tuple to the right by `n` positions"
   ]
  },
  {
   "cell_type": "code",
   "execution_count": 139,
   "id": "b0240fb9-cde6-4194-9540-fb23aab99e31",
   "metadata": {},
   "outputs": [],
   "source": [
    "def rotate_tupleR(n,tuple):\n",
    "    n=n%len(tuple)\n",
    "    rotate=tuple[-n:]+tuple[:-n]\n",
    "    print(rotate)"
   ]
  },
  {
   "cell_type": "code",
   "execution_count": 140,
   "id": "7c39b725-e4a0-4093-a607-00afb3fd12e6",
   "metadata": {},
   "outputs": [
    {
     "name": "stdout",
     "output_type": "stream",
     "text": [
      "(4, 5, 1, 2, 3)\n"
     ]
    }
   ],
   "source": [
    "tup1=(1,2,3,4,5)\n",
    "rotate_tupleR(2,tup1)"
   ]
  },
  {
   "cell_type": "markdown",
   "id": "e38d2f83-addb-4478-97e3-a814b5699bd3",
   "metadata": {},
   "source": [
    " 41. Create a tuple of the first 5 Fibonacci numbers."
   ]
  },
  {
   "cell_type": "code",
   "execution_count": 27,
   "id": "c4d2b88e-197d-42f3-b420-22230414e445",
   "metadata": {},
   "outputs": [],
   "source": [
    "def fibo(n):\n",
    "    a=0\n",
    "    b=1\n",
    "    next_fib=b\n",
    "    fibo=[]\n",
    "    for i in range(0,n+1):\n",
    "        if i<=1:\n",
    "            fibo.append(i)\n",
    "        else:\n",
    "            fibo.append(next_fib)\n",
    "            a,b=b,next_fib\n",
    "            next_fib=a+b\n",
    "    return tuple(fibo)"
   ]
  },
  {
   "cell_type": "code",
   "execution_count": 28,
   "id": "416511f6-b416-4eef-b867-97fbbf37e57b",
   "metadata": {},
   "outputs": [
    {
     "data": {
      "text/plain": [
       "(0, 1, 1, 2, 3, 5)"
      ]
     },
     "execution_count": 28,
     "metadata": {},
     "output_type": "execute_result"
    }
   ],
   "source": [
    "fibo(5)"
   ]
  },
  {
   "cell_type": "markdown",
   "id": "fa8eb10f-2a41-4892-b5a7-7c945650c2ed",
   "metadata": {},
   "source": [
    "42. Create a tuple from user input."
   ]
  },
  {
   "cell_type": "code",
   "execution_count": 165,
   "id": "ec49d425-44e0-4b8c-bb12-282a517cb7e9",
   "metadata": {},
   "outputs": [
    {
     "name": "stdin",
     "output_type": "stream",
     "text": [
      "enter a word my name is rohit\n"
     ]
    },
    {
     "name": "stdout",
     "output_type": "stream",
     "text": [
      "('my', 'name', 'is', 'rohit')\n"
     ]
    }
   ],
   "source": [
    "str1=input(\"enter a word\").split()\n",
    "u_tuple=tuple(str1)\n",
    "print(u_tuple)"
   ]
  },
  {
   "cell_type": "markdown",
   "id": "af7f24fa-bf7b-41c9-9327-a3927c0c6c60",
   "metadata": {},
   "source": [
    "43. Swap two elements in a tuple."
   ]
  },
  {
   "cell_type": "code",
   "execution_count": 180,
   "id": "2d43f423-9831-4b31-bc29-d58ad5ecf526",
   "metadata": {},
   "outputs": [
    {
     "name": "stdout",
     "output_type": "stream",
     "text": [
      "Swap tuple: (1, 2, 6, 4, 5, 3, 7)\n"
     ]
    }
   ],
   "source": [
    "tup=(1,2,3,4,5,6,7)\n",
    "a=2\n",
    "b=5\n",
    "temp_list=list(tup)\n",
    "temp_list[a],temp_list[b]=temp_list[b],temp_list[a]\n",
    "swap_tuple=tuple(temp_list)\n",
    "\n",
    "print(\"Swap tuple:\",swap_tuple)"
   ]
  },
  {
   "cell_type": "markdown",
   "id": "9cb7411a-6185-4d77-be55-dfc0c51407b9",
   "metadata": {},
   "source": [
    " 44. Reverse the elements of a tuple"
   ]
  },
  {
   "cell_type": "code",
   "execution_count": 182,
   "id": "fed86886-3bfe-4a6e-bc60-4f8ea629ae6f",
   "metadata": {},
   "outputs": [
    {
     "name": "stdout",
     "output_type": "stream",
     "text": [
      "('Rohit', 'is', 'name', 'my')\n"
     ]
    }
   ],
   "source": [
    "tup6=('my','name','is','Rohit')\n",
    "reverse_tup6=tup6[::-1]\n",
    "print(reverse_tup6)"
   ]
  },
  {
   "cell_type": "markdown",
   "id": "71f02926-5302-44d2-818c-0d6d4b260aeb",
   "metadata": {},
   "source": [
    " 45. Create a tuple of the first `n` powers of 2."
   ]
  },
  {
   "cell_type": "code",
   "execution_count": 194,
   "id": "7d456ca4-7410-4aa0-bf5d-16f04b490f53",
   "metadata": {},
   "outputs": [],
   "source": [
    "def power_of_2(n):\n",
    "    power=[]\n",
    "    for i in range(0,n+1):\n",
    "        i=2**i\n",
    "        power.append(i)\n",
    "    print(\"first\",n,\"powers of 2:\",tuple(power))"
   ]
  },
  {
   "cell_type": "code",
   "execution_count": 196,
   "id": "826c18d6-8849-4b92-8ec0-5953e1687264",
   "metadata": {},
   "outputs": [
    {
     "name": "stdout",
     "output_type": "stream",
     "text": [
      "first 5 powers of 2: (1, 2, 4, 8, 16, 32)\n"
     ]
    }
   ],
   "source": [
    "power_of_2(5)"
   ]
  },
  {
   "cell_type": "markdown",
   "id": "5253c342-8abc-4d66-817d-6df9b8bcc760",
   "metadata": {},
   "source": [
    "46. Find the longest string in a tuple of strings."
   ]
  },
  {
   "cell_type": "code",
   "execution_count": 208,
   "id": "d2a98062-84b4-419e-8710-aeb78a712703",
   "metadata": {},
   "outputs": [
    {
     "name": "stdout",
     "output_type": "stream",
     "text": [
      "The longest string in given tuple is: early\n"
     ]
    }
   ],
   "source": [
    "tup4=('have','to','wake','up','early')\n",
    "from functools import reduce\n",
    "maximum_str=reduce(lambda x,y: x if len(x)>len(y) else y,tup4)\n",
    "print(\"The longest string in given tuple is:\", maximum_str)"
   ]
  },
  {
   "cell_type": "markdown",
   "id": "d60bbde7-c2f5-448a-ba1b-23afa08db465",
   "metadata": {},
   "source": [
    " 47. Find the shortest string in a tuple of strings."
   ]
  },
  {
   "cell_type": "code",
   "execution_count": 210,
   "id": "3f558946-9f28-4dd4-9ec3-b17d29b5768e",
   "metadata": {},
   "outputs": [
    {
     "name": "stdout",
     "output_type": "stream",
     "text": [
      "The Shortest string in given tuple is: up\n"
     ]
    }
   ],
   "source": [
    "tup4=('have','to','wake','up','early')\n",
    "from functools import reduce\n",
    "min_str=reduce(lambda x,y: x if len(x)<len(y) else y,tup4)\n",
    "print(\"The Shortest string in given tuple is:\", min_str)"
   ]
  },
  {
   "cell_type": "markdown",
   "id": "3998f857-5519-4c1a-92be-67d40afbb66d",
   "metadata": {},
   "source": [
    " 48. Create a tuple of the first `n` triangular numbers."
   ]
  },
  {
   "cell_type": "code",
   "execution_count": 224,
   "id": "db02a196-554f-44df-8b58-80873ff2412a",
   "metadata": {},
   "outputs": [],
   "source": [
    "def triangular_number(n):\n",
    "    triangular_num=[]\n",
    "    for i in range(1,n+1):\n",
    "        i=int(i*(i+1)/2)\n",
    "        triangular_num.append(i)\n",
    "    return tuple(triangular_num)"
   ]
  },
  {
   "cell_type": "code",
   "execution_count": 225,
   "id": "c917c72b-a03b-4580-8492-1acf5b2d518c",
   "metadata": {},
   "outputs": [
    {
     "data": {
      "text/plain": [
       "(1, 3, 6, 10, 15)"
      ]
     },
     "execution_count": 225,
     "metadata": {},
     "output_type": "execute_result"
    }
   ],
   "source": [
    "triangular_number(5)"
   ]
  },
  {
   "cell_type": "markdown",
   "id": "e3bc1163-631c-4bfa-a550-8a8bb83bcd41",
   "metadata": {},
   "source": [
    " 49. Check if a tuple contains another tuple as a subsequence.\n"
   ]
  },
  {
   "cell_type": "code",
   "execution_count": 278,
   "id": "fbca4043-a60d-4c49-8390-1a9e637c335f",
   "metadata": {},
   "outputs": [],
   "source": [
    "def check_subsequence(t1,t2):\n",
    "    for i in t2:\n",
    "        if i  in t1:\n",
    "            continue\n",
    "        return \"it does not contain another tuple as a subsequense\"\n",
    "    return \"it contain another tuple as a subsequense\""
   ]
  },
  {
   "cell_type": "code",
   "execution_count": 279,
   "id": "a706bb3b-bbf6-433a-96e3-4f4b7763efcf",
   "metadata": {},
   "outputs": [],
   "source": [
    "main_tuple=(1,2,3,4,5)\n",
    "sub_tuple=(3,4,5)"
   ]
  },
  {
   "cell_type": "code",
   "execution_count": 280,
   "id": "2be2f1a2-1fe0-4a1d-b215-6d6da2ef887e",
   "metadata": {},
   "outputs": [
    {
     "data": {
      "text/plain": [
       "'it contain another tuple as a subsequense'"
      ]
     },
     "execution_count": 280,
     "metadata": {},
     "output_type": "execute_result"
    }
   ],
   "source": [
    "check_subsequence(main_tuple,sub_tuple)"
   ]
  },
  {
   "cell_type": "markdown",
   "id": "f9124981-126a-4a7e-83e4-6667708455f3",
   "metadata": {},
   "source": [
    "50. Create a tuple of alternating 1s and 0s of length `n`"
   ]
  },
  {
   "cell_type": "code",
   "execution_count": 281,
   "id": "d81c754c-5442-477c-b934-798ceb070ff5",
   "metadata": {},
   "outputs": [
    {
     "name": "stdout",
     "output_type": "stream",
     "text": [
      "(0, 1, 0, 1, 0, 1, 0, 1, 0, 1, 0, 1, 0, 1, 0)\n"
     ]
    }
   ],
   "source": [
    "n=15\n",
    "tuple50=tuple(i%2 for i in range(n))\n",
    "print(tuple50)"
   ]
  },
  {
   "cell_type": "markdown",
   "id": "4cf49ca5-0bbc-42cf-b30c-c6b468efe804",
   "metadata": {},
   "source": [
    "### Set Based Practice Problem :"
   ]
  },
  {
   "cell_type": "markdown",
   "id": "2ee9988c-50f8-48ce-af4f-7b5607264158",
   "metadata": {},
   "source": [
    " 1. Create a set with integers from 1 to 5"
   ]
  },
  {
   "cell_type": "code",
   "execution_count": 285,
   "id": "09ec3c64-271b-4bee-8ab2-97c9f96a73bd",
   "metadata": {},
   "outputs": [
    {
     "name": "stdout",
     "output_type": "stream",
     "text": [
      "{1, 2, 3, 4, 5}\n"
     ]
    }
   ],
   "source": [
    "set1={i for i in range(1,6)}\n",
    "print(set1)"
   ]
  },
  {
   "cell_type": "markdown",
   "id": "755b5002-c667-41d0-b955-458e93b46822",
   "metadata": {},
   "source": [
    " 2. Add an element to a set."
   ]
  },
  {
   "cell_type": "code",
   "execution_count": 288,
   "id": "f0f064f7-7e32-43d1-8cfe-699c5f72628d",
   "metadata": {},
   "outputs": [
    {
     "name": "stdout",
     "output_type": "stream",
     "text": [
      "{1, 2, 3, 4, 5, 6}\n"
     ]
    }
   ],
   "source": [
    "set2={1, 2, 3, 4, 5}\n",
    "set2.add(6)     #added an element\n",
    "print(set2)"
   ]
  },
  {
   "cell_type": "markdown",
   "id": "0426f0c1-edfe-4e34-b098-0b83ca3f6d06",
   "metadata": {},
   "source": [
    " 3. Remove an element from a set.\n"
   ]
  },
  {
   "cell_type": "code",
   "execution_count": 289,
   "id": "70c6b1ec-f6e6-4823-a90f-7a2ce6411df3",
   "metadata": {},
   "outputs": [
    {
     "name": "stdout",
     "output_type": "stream",
     "text": [
      "{1, 2, 4, 5, 6}\n"
     ]
    }
   ],
   "source": [
    "set3={1, 2, 3, 4, 5, 6}\n",
    "set3.remove(3)   #remvoed the element\n",
    "print(set3)"
   ]
  },
  {
   "cell_type": "markdown",
   "id": "ad71093c-f322-47b9-8eb7-41352f2a2e39",
   "metadata": {},
   "source": [
    " 4. Check if an element exists in a set.\n"
   ]
  },
  {
   "cell_type": "code",
   "execution_count": 291,
   "id": "789ae41d-66d0-40fa-9ac8-fa2413c65233",
   "metadata": {},
   "outputs": [
    {
     "name": "stdin",
     "output_type": "stream",
     "text": [
      "please enter a number 4\n"
     ]
    },
    {
     "name": "stdout",
     "output_type": "stream",
     "text": [
      "yes element exists in a set\n"
     ]
    }
   ],
   "source": [
    "set4={1, 2, 3, 4, 5, 6}\n",
    "element=int(input(\"please enter a number\"))\n",
    "if element in set4:\n",
    "    print(\"yes element exists in a set\")\n",
    "else:\n",
    "    print(\"No element exists in a set\")"
   ]
  },
  {
   "cell_type": "markdown",
   "id": "36768eaf-6b5a-4c8d-bbc8-880491b8888e",
   "metadata": {},
   "source": [
    "5. Find the length of a set without using the `len()` function."
   ]
  },
  {
   "cell_type": "code",
   "execution_count": 292,
   "id": "8c23bc33-d8bd-476f-b2a6-347dc31f55c1",
   "metadata": {},
   "outputs": [
    {
     "name": "stdout",
     "output_type": "stream",
     "text": [
      "6\n"
     ]
    }
   ],
   "source": [
    "set5={1, 2, 3, 4, 5, 6}\n",
    "count=0\n",
    "for i in set5:\n",
    "    count+=1\n",
    "print(count)"
   ]
  },
  {
   "cell_type": "markdown",
   "id": "e0fbfdf1-698f-43cd-9e02-2cf3fc307d11",
   "metadata": {},
   "source": [
    " 6. Clear all elements from a set."
   ]
  },
  {
   "cell_type": "code",
   "execution_count": 301,
   "id": "d3a8833b-36c0-45a2-a02e-7db81e01c519",
   "metadata": {},
   "outputs": [
    {
     "name": "stdout",
     "output_type": "stream",
     "text": [
      "set()\n"
     ]
    }
   ],
   "source": [
    "set6={1, 2, 3, 4, 5, 6}\n",
    "set6.clear()    #clear the set\n",
    "print(set6)"
   ]
  },
  {
   "cell_type": "markdown",
   "id": "ec2aab9f-e071-4246-baf8-164db95acf13",
   "metadata": {},
   "source": [
    " 7. Create a set of even numbers from 1 to 10.\n"
   ]
  },
  {
   "cell_type": "code",
   "execution_count": 304,
   "id": "7256afe5-fb51-4557-a7cb-026aa9eeb857",
   "metadata": {},
   "outputs": [
    {
     "name": "stdout",
     "output_type": "stream",
     "text": [
      "{2, 4, 6, 8, 10}\n"
     ]
    }
   ],
   "source": [
    "even_num={i for i in range(1,11) if i%2==0}\n",
    "print(even_num)"
   ]
  },
  {
   "cell_type": "markdown",
   "id": "9896302f-858e-4519-bc12-6fcc4ab8470b",
   "metadata": {},
   "source": [
    " 8. Create a set of odd numbers from 1 to 10."
   ]
  },
  {
   "cell_type": "code",
   "execution_count": 305,
   "id": "e1959cab-72fa-4b5b-8f27-5ad7b0963d68",
   "metadata": {},
   "outputs": [
    {
     "name": "stdout",
     "output_type": "stream",
     "text": [
      "{1, 3, 5, 7, 9}\n"
     ]
    }
   ],
   "source": [
    "odd_num={i for i in range(1,11) if i%2!=0}\n",
    "print(odd_num)"
   ]
  },
  {
   "cell_type": "markdown",
   "id": "815c275f-ab00-4f43-a7bb-adbcd016dec5",
   "metadata": {},
   "source": [
    " 9. Find the union of two sets.\n"
   ]
  },
  {
   "cell_type": "code",
   "execution_count": 307,
   "id": "b431e640-4c06-48a0-ac04-b271663eb886",
   "metadata": {},
   "outputs": [
    {
     "name": "stdout",
     "output_type": "stream",
     "text": [
      "Union of two sets: {1, 2, 3, 4, 5, 6, 7, 8}\n"
     ]
    }
   ],
   "source": [
    "set9={1,2,3,4,5}\n",
    "set10={4,5,6,7,8}\n",
    "set_union=set9.union(set10)\n",
    "print(\"Union of two sets:\",set_union)"
   ]
  },
  {
   "cell_type": "markdown",
   "id": "64e3c2c0-6923-4a60-a26d-4bb430dbb3ff",
   "metadata": {},
   "source": [
    "10. Find the intersection of two sets"
   ]
  },
  {
   "cell_type": "code",
   "execution_count": 311,
   "id": "35414aa7-a847-43d6-b078-5c8000e6ab80",
   "metadata": {},
   "outputs": [
    {
     "name": "stdout",
     "output_type": "stream",
     "text": [
      "Intersection of two sets {4, 5}\n"
     ]
    }
   ],
   "source": [
    "set9={1,2,3,4,5}\n",
    "set10={4,5,6,7,8}\n",
    "intersection_set=set9.intersection(set10)\n",
    "print(\"Intersection of two sets\",intersection_set)"
   ]
  },
  {
   "cell_type": "markdown",
   "id": "3ab63256-b311-49ef-8fbf-5f7216424694",
   "metadata": {},
   "source": [
    " 11. Find the difference between two sets.\n"
   ]
  },
  {
   "cell_type": "code",
   "execution_count": 317,
   "id": "faccea6e-011b-4e8e-8a4a-8bbcdc9a08f5",
   "metadata": {},
   "outputs": [
    {
     "name": "stdout",
     "output_type": "stream",
     "text": [
      "difference between two sets: {1, 2, 3} {8, 6, 7}\n"
     ]
    }
   ],
   "source": [
    "set9={1,2,3,4,5}\n",
    "set10={4,5,6,7,8}\n",
    "a=set9.difference(set10)\n",
    "b=set10.difference(set9)\n",
    "print(\"difference between two sets:\",a,b)"
   ]
  },
  {
   "cell_type": "markdown",
   "id": "7ba1d685-4205-452e-b3a4-bb400bc99b56",
   "metadata": {},
   "source": [
    " 12. Check if a set is a subset of another set."
   ]
  },
  {
   "cell_type": "code",
   "execution_count": 319,
   "id": "32ba6df2-19dc-40e8-8262-59632d20c0d8",
   "metadata": {},
   "outputs": [
    {
     "name": "stdout",
     "output_type": "stream",
     "text": [
      "Is set2 is superset of set1: True\n"
     ]
    }
   ],
   "source": [
    "set1={4,5,6}\n",
    "set2={4,5,6,7,8}\n",
    "issuperset=set2.issuperset(set1)\n",
    "print(\"Is set2 is superset of set1:\",issuperset)"
   ]
  },
  {
   "cell_type": "markdown",
   "id": "5f4d2d0b-9404-484e-8bca-c2f296b775be",
   "metadata": {},
   "source": [
    " 13. Check if a set is a superset of another set."
   ]
  },
  {
   "cell_type": "code",
   "execution_count": 320,
   "id": "c8eb7ea3-fb78-4b1a-8c8e-6a9100a6b46e",
   "metadata": {},
   "outputs": [
    {
     "name": "stdout",
     "output_type": "stream",
     "text": [
      "Is set1 is subset of set2: True\n"
     ]
    }
   ],
   "source": [
    "set1={4,5,6}\n",
    "set2={4,5,6,7,8}\n",
    "issubset=set1.issubset(set2)\n",
    "print(\"Is set1 is subset of set2:\",issubset)"
   ]
  },
  {
   "cell_type": "markdown",
   "id": "baee72a2-0659-4e99-8c08-6d228db00e43",
   "metadata": {},
   "source": [
    " 14. Create a set from a list."
   ]
  },
  {
   "cell_type": "code",
   "execution_count": 3,
   "id": "e6d0aef4-a842-4239-9692-88be2a43a09b",
   "metadata": {},
   "outputs": [
    {
     "name": "stdout",
     "output_type": "stream",
     "text": [
      "\n",
      "Original List: [1, 2, 3, 4, 5, 6] \n",
      " Converted into set: {1, 2, 3, 4, 5, 6}\n"
     ]
    }
   ],
   "source": [
    "list_=[1,2,3,4,5,6]\n",
    "set1= set(list_)\n",
    "print(\"\\nOriginal List:\",list_,\"\\n Converted into set:\",set1)"
   ]
  },
  {
   "cell_type": "markdown",
   "id": "4e12d2ef-311f-4d4a-b2f0-eaf2c6ae7926",
   "metadata": {},
   "source": [
    " 15. Convert a set to a list.\n"
   ]
  },
  {
   "cell_type": "code",
   "execution_count": 6,
   "id": "3fab277e-7452-40e9-b301-14345acbe657",
   "metadata": {},
   "outputs": [
    {
     "name": "stdout",
     "output_type": "stream",
     "text": [
      "Original set: {1, 2, 3, 4, 5, 6} \n",
      "Converted list: [1, 2, 3, 4, 5, 6]\n"
     ]
    }
   ],
   "source": [
    "set1={1, 2, 3, 4, 5, 6}\n",
    "list1=list(set1)\n",
    "print(\"Original set:\",set1,\"\\nConverted list:\",list1)"
   ]
  },
  {
   "cell_type": "markdown",
   "id": "8bd5295d-eb6a-4b54-8627-ab911afd2320",
   "metadata": {},
   "source": [
    " 16. Remove a random element from a set.\n"
   ]
  },
  {
   "cell_type": "code",
   "execution_count": 2,
   "id": "38d9ef65-10ac-42b3-922d-2d774f4b9a19",
   "metadata": {},
   "outputs": [],
   "source": [
    "import random"
   ]
  },
  {
   "cell_type": "code",
   "execution_count": 4,
   "id": "6ae4d695-1b70-47c8-8c16-91b6452f3080",
   "metadata": {},
   "outputs": [
    {
     "name": "stdout",
     "output_type": "stream",
     "text": [
      "Set after removing an element: {3, 5, 6, 7, 8}\n"
     ]
    }
   ],
   "source": [
    "set2={2,3,5,6,7,8}\n",
    "random_element=random.choice(list(set2)) #will select random element\n",
    "set2.remove(random_element)\n",
    "print(\"Set after removing an element:\",set2)"
   ]
  },
  {
   "cell_type": "markdown",
   "id": "98810089-3291-4d20-8359-866a5735a317",
   "metadata": {},
   "source": [
    " 17. Pop an element from a set."
   ]
  },
  {
   "cell_type": "code",
   "execution_count": 7,
   "id": "8d4ea0a4-b276-461f-9811-485c5824da55",
   "metadata": {},
   "outputs": [
    {
     "name": "stdout",
     "output_type": "stream",
     "text": [
      " POP element: 2 \n",
      " Set after pop {3, 5, 6, 7, 8}\n"
     ]
    }
   ],
   "source": [
    "set2={2,3,5,6,7,8}\n",
    "pop_element=set2.pop()\n",
    "print(\" POP element:\",pop_element,\"\\n Set after pop\",set2)"
   ]
  },
  {
   "cell_type": "markdown",
   "id": "1d3eae6b-9166-462c-b631-d82a983e9e05",
   "metadata": {},
   "source": [
    "18. Check if two sets have no elements in common"
   ]
  },
  {
   "cell_type": "code",
   "execution_count": 9,
   "id": "d6534071-56ab-412f-8481-a9760b5c411b",
   "metadata": {},
   "outputs": [
    {
     "name": "stdout",
     "output_type": "stream",
     "text": [
      "The set have common element {1}\n"
     ]
    }
   ],
   "source": [
    "set1={1,2,3,4,5}\n",
    "set2={6,7,8,9,1}\n",
    "common_element=set1.intersection(set2)\n",
    "if not common_element:\n",
    "    print(\"No common elements found\")\n",
    "else:\n",
    "    print(\"The set have common element\",common_element)"
   ]
  },
  {
   "cell_type": "markdown",
   "id": "5d4f7aaf-bdef-432f-a2ca-9e9bd19df8aa",
   "metadata": {},
   "source": [
    " 19. Find the symmetric difference between two sets."
   ]
  },
  {
   "cell_type": "code",
   "execution_count": 12,
   "id": "8cb6bf82-a2e8-418f-9a5b-75b96f9c5dd5",
   "metadata": {},
   "outputs": [
    {
     "name": "stdout",
     "output_type": "stream",
     "text": [
      "Symmetric difference: {1, 2, 5, 6}\n"
     ]
    }
   ],
   "source": [
    "set1={1,2,3,4}\n",
    "set2={3,4,5,6}\n",
    "\n",
    "sym_different=set1^set2\n",
    "print(\"Symmetric difference:\",sym_different)"
   ]
  },
  {
   "cell_type": "markdown",
   "id": "657f8fe8-289e-4deb-b30f-edd29fea615e",
   "metadata": {},
   "source": [
    " 20. Update a set with elements from another set."
   ]
  },
  {
   "cell_type": "code",
   "execution_count": 3,
   "id": "9313c845-845a-43f2-a10b-95ee92a56005",
   "metadata": {},
   "outputs": [
    {
     "name": "stdout",
     "output_type": "stream",
     "text": [
      "Updated Set: {1, 2, 3, 4, 5, 6}\n"
     ]
    }
   ],
   "source": [
    "set1={1,2,3,4}\n",
    "set2={3,4,5,6}\n",
    "set2.update(set1) #have updated the set2 with set1\n",
    "print(\"Updated Set:\", set2)"
   ]
  },
  {
   "cell_type": "markdown",
   "id": "50fb3de9-9322-4d2c-8ece-b29857516167",
   "metadata": {},
   "source": [
    " 21. Create a set of the first 5 prime numbers."
   ]
  },
  {
   "cell_type": "code",
   "execution_count": 11,
   "id": "a822638c-a3e0-4900-9716-7b8f9de741e4",
   "metadata": {},
   "outputs": [],
   "source": [
    "def get_prime(n):\n",
    "    list1=[]\n",
    "    list2=range(2,n+1)\n",
    "    prime=[]\n",
    "    for i in range(2,n+1):\n",
    "        for j in range(2,n+1):\n",
    "            if j<i and i%j==0:\n",
    "                list1.append(i)\n",
    "    for i in list2:\n",
    "        if i not in list1:\n",
    "            prime.append(i)\n",
    "    return set(prime)"
   ]
  },
  {
   "cell_type": "code",
   "execution_count": 12,
   "id": "7a323cb6-4a22-48d4-8bec-cf22ce2e1133",
   "metadata": {},
   "outputs": [
    {
     "data": {
      "text/plain": [
       "{2, 3, 5, 7, 11, 13, 17, 19}"
      ]
     },
     "execution_count": 12,
     "metadata": {},
     "output_type": "execute_result"
    }
   ],
   "source": [
    "get_prime(20)"
   ]
  },
  {
   "cell_type": "markdown",
   "id": "004a2032-928b-407f-9b45-b1b8f894e144",
   "metadata": {},
   "source": [
    "22. Check if two sets are identical."
   ]
  },
  {
   "cell_type": "code",
   "execution_count": 43,
   "id": "e5157332-a25e-418f-9a9a-8996f10b3b26",
   "metadata": {},
   "outputs": [
    {
     "name": "stdout",
     "output_type": "stream",
     "text": [
      "Yes two sets are identical\n"
     ]
    }
   ],
   "source": [
    "set1={2,3,5,6,3}\n",
    "set2={2,3,5,6}\n",
    "if set1==set2:\n",
    "    print(\"Yes two sets are identical\")\n",
    "else:\n",
    "    print(\"No two sets are not identical\")"
   ]
  },
  {
   "cell_type": "markdown",
   "id": "a42fe28a-2387-4831-a781-43cb81271e55",
   "metadata": {},
   "source": [
    "23. Create a frozen set."
   ]
  },
  {
   "cell_type": "code",
   "execution_count": 45,
   "id": "a6149988-b3f1-4a95-9643-a3fd02d476db",
   "metadata": {},
   "outputs": [
    {
     "name": "stdout",
     "output_type": "stream",
     "text": [
      "Frozen set: frozenset({1, 2, 3, 4, 5})\n"
     ]
    }
   ],
   "source": [
    "set3={1,2,4,3,5}\n",
    "frozen=frozenset(set3)\n",
    "print(\"Frozen set:\",frozen)"
   ]
  },
  {
   "cell_type": "markdown",
   "id": "f16a52bf-2a18-45be-8f20-02e9555c37a0",
   "metadata": {},
   "source": [
    " 24. Check if a set is disjoint with another set"
   ]
  },
  {
   "cell_type": "code",
   "execution_count": 46,
   "id": "5d4f5faa-b0ec-4db7-9cc9-5a09eb83d031",
   "metadata": {},
   "outputs": [
    {
     "name": "stdout",
     "output_type": "stream",
     "text": [
      "Is disjoint set: True\n"
     ]
    }
   ],
   "source": [
    "set_a={1,2,3,4}\n",
    "set_b={5,6,7,8}\n",
    "isdisjoin=set_a.isdisjoint(set_b)\n",
    "print(\"Is disjoint set:\",isdisjoin)"
   ]
  },
  {
   "cell_type": "markdown",
   "id": "e5df68c1-77a7-4783-a965-c593d0d22e55",
   "metadata": {},
   "source": [
    "25. Create a set of squares of numbers from 1 to 5."
   ]
  },
  {
   "cell_type": "code",
   "execution_count": 48,
   "id": "6ff7a661-1b98-42c5-af28-8bf4fc3fc0ec",
   "metadata": {},
   "outputs": [
    {
     "name": "stdout",
     "output_type": "stream",
     "text": [
      "Square set: {1, 4, 9, 16, 25}\n"
     ]
    }
   ],
   "source": [
    "n=5\n",
    "square_set={i**2 for i in range(1,n+1)}\n",
    "print(\"Square set:\",square_set)"
   ]
  },
  {
   "cell_type": "markdown",
   "id": "5b079b6d-c7c7-47c9-9d44-531a9c06931c",
   "metadata": {},
   "source": [
    " 26. Filter out all even numbers from a set"
   ]
  },
  {
   "cell_type": "code",
   "execution_count": 49,
   "id": "616beb83-4b7b-46b2-a4a2-6e9e029db0a2",
   "metadata": {},
   "outputs": [
    {
     "name": "stdout",
     "output_type": "stream",
     "text": [
      "Even set: {2, 4, 6, 8, 10}\n"
     ]
    }
   ],
   "source": [
    "set2={1,2,3,4,5,6,7,8,9,10}\n",
    "even_set={i for i in set2 if i%2==0}\n",
    "print(\"Even set:\",even_set)"
   ]
  },
  {
   "cell_type": "markdown",
   "id": "0894f7d5-b82d-46a1-9a7b-d63b6c529bb2",
   "metadata": {},
   "source": [
    " 27. Multiply all elements in a set by 2."
   ]
  },
  {
   "cell_type": "code",
   "execution_count": 51,
   "id": "d6893455-4d93-446a-b534-c22e0731abc8",
   "metadata": {},
   "outputs": [
    {
     "name": "stdout",
     "output_type": "stream",
     "text": [
      "Multiply set: {2, 4, 6, 8, 10}\n"
     ]
    }
   ],
   "source": [
    "set3={1,2,3,4,5}\n",
    "multiply_set={i*2 for i in set3}\n",
    "print(\"Multiply set:\",multiply_set)"
   ]
  },
  {
   "cell_type": "markdown",
   "id": "ddd73d26-e3d5-4a32-b193-8dbd29eb3ef5",
   "metadata": {},
   "source": [
    " 28. Create a set of random numbers."
   ]
  },
  {
   "cell_type": "code",
   "execution_count": 53,
   "id": "94bc82c5-d472-4983-a451-8f06660562c5",
   "metadata": {},
   "outputs": [],
   "source": [
    "import random"
   ]
  },
  {
   "cell_type": "code",
   "execution_count": 59,
   "id": "f638adea-f4d6-48a5-8380-998a54364f75",
   "metadata": {},
   "outputs": [
    {
     "name": "stdout",
     "output_type": "stream",
     "text": [
      "{65, 100, 104, 73, 83, 55, 87, 92}\n"
     ]
    }
   ],
   "source": [
    "random_set={random.randint(55,120) for i in range(10)}\n",
    "print(random_set)"
   ]
  },
  {
   "cell_type": "markdown",
   "id": "e43a8dc5-1671-4d5f-a0eb-3a119f3f261b",
   "metadata": {},
   "source": [
    " 29. Check if a set is empty."
   ]
  },
  {
   "cell_type": "code",
   "execution_count": 61,
   "id": "8436c777-e923-4338-b48e-11ae56978136",
   "metadata": {},
   "outputs": [
    {
     "name": "stdout",
     "output_type": "stream",
     "text": [
      "Set is not empty\n"
     ]
    }
   ],
   "source": [
    "set4={1}\n",
    "if set4:\n",
    "    print(\"Set is not empty\")\n",
    "else:\n",
    "    print(\"Yes set is an empty\")"
   ]
  },
  {
   "cell_type": "markdown",
   "id": "dfd8d015-916a-44a7-851e-f860d1cf1f4e",
   "metadata": {},
   "source": [
    " 30. Create a nested set (hint: use frozenset)."
   ]
  },
  {
   "cell_type": "code",
   "execution_count": 67,
   "id": "5d903b62-6f06-4c67-bb1e-a6bf2e616367",
   "metadata": {},
   "outputs": [
    {
     "name": "stdout",
     "output_type": "stream",
     "text": [
      "Nested set: {frozenset({1, 2, 3, 4, 5}), frozenset({3, 4, 5, 6, 7})}\n"
     ]
    }
   ],
   "source": [
    "set1=frozenset({1,2,3,4,5})\n",
    "set2=frozenset({3,4,5,6,7})\n",
    "nested_set={set1,set2}\n",
    "print(\"Nested set:\",nested_set)"
   ]
  },
  {
   "cell_type": "markdown",
   "id": "5f1dd577-a0b5-4772-8db6-b5aa6e02deb0",
   "metadata": {},
   "source": [
    " 31. Remove an element from a set using the discard method."
   ]
  },
  {
   "cell_type": "code",
   "execution_count": 69,
   "id": "8fb1bf24-47a7-479e-86e3-cb7568696c9b",
   "metadata": {},
   "outputs": [
    {
     "name": "stdout",
     "output_type": "stream",
     "text": [
      "Original set: {1, 2, 3, 4, 5}\n",
      "Set after removing element using discard: {1, 2, 3, 5}\n"
     ]
    }
   ],
   "source": [
    "set6={1,2,3,4,5}\n",
    "print(\"Original set:\",set6)\n",
    "\n",
    "set6.discard(4)\n",
    "print(\"Set after removing element using discard:\",set6)"
   ]
  },
  {
   "cell_type": "markdown",
   "id": "77225626-b834-4227-91f2-d4b4e4830223",
   "metadata": {},
   "source": [
    " 32. Compare two sets"
   ]
  },
  {
   "cell_type": "code",
   "execution_count": 73,
   "id": "1dbcdedd-b5a6-40c8-8b56-a8ab4617c7fd",
   "metadata": {},
   "outputs": [
    {
     "name": "stdout",
     "output_type": "stream",
     "text": [
      "__________comparing two sets___________\n",
      "set1==set2: False \n",
      "set1!=set2: True \n",
      "set1<set2: False \n",
      "set1<=set2: False \n",
      "set1>set2: False \n",
      "set1>=set2: False\n"
     ]
    }
   ],
   "source": [
    "set1={3,4,5}\n",
    "set2={4,5,6}\n",
    "print('__________comparing two sets___________')\n",
    "print(\"set1==set2:\",set1==set2,\"\\nset1!=set2:\",set1!=set2,\"\\nset1<set2:\",set1<set2,\"\\nset1<=set2:\",set1<=set2,\"\\nset1>set2:\",set1>set2,\"\\nset1>=set2:\",set1>=set2)"
   ]
  },
  {
   "cell_type": "markdown",
   "id": "f1a27b4d-f840-4a0e-8134-97a0d905f9c3",
   "metadata": {},
   "source": [
    "33. Create a set from a string"
   ]
  },
  {
   "cell_type": "code",
   "execution_count": 74,
   "id": "a325e99e-10db-4ec5-a7b4-c51ed0fcfc8e",
   "metadata": {},
   "outputs": [
    {
     "name": "stdout",
     "output_type": "stream",
     "text": [
      "Converted Result: {'R', 'h', 'o', 'i', 't'}\n"
     ]
    }
   ],
   "source": [
    "string=\"Rohit\"\n",
    "My_set=set(string)\n",
    "print(\"Converted Result:\",My_set)"
   ]
  },
  {
   "cell_type": "markdown",
   "id": "3141a521-2abe-4c71-8980-dcd0ea90a3bc",
   "metadata": {},
   "source": [
    " 34. Convert a set of strings to a set of integers."
   ]
  },
  {
   "cell_type": "code",
   "execution_count": 75,
   "id": "7f0e8c03-429f-47b2-88a0-2a4dbede9304",
   "metadata": {},
   "outputs": [
    {
     "name": "stdout",
     "output_type": "stream",
     "text": [
      "Result after converting string into int: {1, 2, 3}\n"
     ]
    }
   ],
   "source": [
    "set_str={'1','2','3'}\n",
    "int_set={int(i) for i in set_str}\n",
    "print(\"Result after converting string into int:\",int_set)"
   ]
  },
  {
   "cell_type": "markdown",
   "id": "11db2d75-e53b-4fc0-bf82-ab82de5db586",
   "metadata": {},
   "source": [
    "35. Convert a set of integers to a set of strings"
   ]
  },
  {
   "cell_type": "code",
   "execution_count": 77,
   "id": "0dd42c5a-86f5-40c6-aa58-991bf2f05bdb",
   "metadata": {},
   "outputs": [
    {
     "name": "stdout",
     "output_type": "stream",
     "text": [
      "Result after converting int into string: {'2', '1', '3'}\n"
     ]
    }
   ],
   "source": [
    "int_set1={1, 2, 3}\n",
    "str_set={str(i) for i in int_set1}\n",
    "print(\"Result after converting int into string:\",str_set)"
   ]
  },
  {
   "cell_type": "markdown",
   "id": "c2dc4491-b775-447e-9d09-5a30bc7bfb96",
   "metadata": {},
   "source": [
    "36. Create a set from a tuple."
   ]
  },
  {
   "cell_type": "code",
   "execution_count": 79,
   "id": "338f2b46-ff85-4b17-91f8-e6679ba48337",
   "metadata": {},
   "outputs": [
    {
     "name": "stdout",
     "output_type": "stream",
     "text": [
      "Result: {'R', 'h', 'o', 'i', 't'}\n"
     ]
    }
   ],
   "source": [
    "tup1=(\"Rohit\")\n",
    "converted_set=set(tup1)\n",
    "print(\"Result:\",converted_set)"
   ]
  },
  {
   "cell_type": "markdown",
   "id": "be8d6ada-bce3-432c-bc06-707b2279e026",
   "metadata": {},
   "source": [
    " 37. Convert a set to a tuple."
   ]
  },
  {
   "cell_type": "code",
   "execution_count": 80,
   "id": "ef243702-aca8-4a12-9072-35134e7b840e",
   "metadata": {},
   "outputs": [
    {
     "name": "stdout",
     "output_type": "stream",
     "text": [
      "Result: (1, 2, 3, 4)\n"
     ]
    }
   ],
   "source": [
    "O_set={1,2,3,4}\n",
    "con_tup=tuple(O_set)\n",
    "print(\"Result:\",con_tup)"
   ]
  },
  {
   "cell_type": "markdown",
   "id": "4c622f16-0bbb-4fbb-b0a2-111576a5aef4",
   "metadata": {},
   "source": [
    " 38. Find the maximum value in a set."
   ]
  },
  {
   "cell_type": "code",
   "execution_count": 81,
   "id": "6b2deb0b-c828-4385-be63-2bc3c9e3fad4",
   "metadata": {},
   "outputs": [],
   "source": [
    "from functools import reduce"
   ]
  },
  {
   "cell_type": "code",
   "execution_count": 90,
   "id": "9d185cb2-350a-46c7-acad-8c53341bd247",
   "metadata": {},
   "outputs": [
    {
     "name": "stdout",
     "output_type": "stream",
     "text": [
      "Maximum value in a set: 32\n"
     ]
    }
   ],
   "source": [
    "set_num={2,4,6,8,9,2,4,32}\n",
    "maximum_value=reduce(lambda x,y: x if x>y else y,set_num)\n",
    "print(\"Maximum value in a set:\",maximum_value)"
   ]
  },
  {
   "cell_type": "markdown",
   "id": "b8aa5c93-8b27-4b8d-ab60-1178221a57b7",
   "metadata": {},
   "source": [
    " 39. Find the minimum value in a set."
   ]
  },
  {
   "cell_type": "code",
   "execution_count": 91,
   "id": "0ba66a19-a647-4ce0-b31a-552171989335",
   "metadata": {},
   "outputs": [
    {
     "name": "stdout",
     "output_type": "stream",
     "text": [
      "Minimum value in a set: 2\n"
     ]
    }
   ],
   "source": [
    "from functools import reduce\n",
    "set_num={2,4,6,8,9,2,4,32}\n",
    "minimum_value=reduce(lambda x,y: x if x<y else y,set_num)\n",
    "print(\"Minimum value in a set:\",minimum_value)"
   ]
  },
  {
   "cell_type": "markdown",
   "id": "38e2164c-f03f-4b64-9ed1-e172f13fc19b",
   "metadata": {},
   "source": [
    " 40. Create a set from user input"
   ]
  },
  {
   "cell_type": "code",
   "execution_count": 94,
   "id": "74551c7b-3171-4601-a36c-70031eaf54f6",
   "metadata": {},
   "outputs": [
    {
     "name": "stdin",
     "output_type": "stream",
     "text": [
      "Please enter something 123456789\n"
     ]
    },
    {
     "name": "stdout",
     "output_type": "stream",
     "text": [
      "Result: {'8', '2', '4', '7', '6', '1', '3', '5', '9'}\n"
     ]
    }
   ],
   "source": [
    "uset_input_set=set(input(\"Please enter something\"))\n",
    "print(\"Result:\",uset_input_set)"
   ]
  },
  {
   "cell_type": "markdown",
   "id": "30ac4fb1-2b7c-4971-94e9-62f4b8111f5f",
   "metadata": {},
   "source": [
    "41. Check if the intersection of two sets is empty"
   ]
  },
  {
   "cell_type": "code",
   "execution_count": 97,
   "id": "8804f12d-160b-4d68-9df5-62343a88ed00",
   "metadata": {},
   "outputs": [
    {
     "name": "stdout",
     "output_type": "stream",
     "text": [
      "Is intersection of two sets is empty: True\n"
     ]
    }
   ],
   "source": [
    "set1={1,2,4,3,5}\n",
    "set2={8,9,10}\n",
    "intersec_set=set1.intersection(set2)\n",
    "if intersec_set:\n",
    "    print(\"Is intersection of two sets is empty: False\")\n",
    "else:\n",
    "    print(\"Is intersection of two sets is empty: True\")"
   ]
  },
  {
   "cell_type": "markdown",
   "id": "8816e890-c709-4482-b93e-fccd9cf171bd",
   "metadata": {},
   "source": [
    " 42. Create a set of the first 5 Fibonacci numbers"
   ]
  },
  {
   "cell_type": "code",
   "execution_count": 29,
   "id": "fb10d2c1-1b92-4141-baf6-da0146f6f8d8",
   "metadata": {},
   "outputs": [
    {
     "name": "stdout",
     "output_type": "stream",
     "text": [
      "[0, 1, 1, 2, 3]\n"
     ]
    }
   ],
   "source": [
    "fibbo=[]\n",
    "fibbo_set=set(fibbo)\n",
    "a=0\n",
    "b=1\n",
    "nextfib=a+b\n",
    "for i in range(5):\n",
    "    if i<=1:\n",
    "        fibbo.append(i)\n",
    "    else:\n",
    "        fibbo.append(nextfib)\n",
    "        a,b=b,nextfib\n",
    "        nextfib=a+b\n",
    "print(fibbo)"
   ]
  },
  {
   "cell_type": "markdown",
   "id": "fd27a34b-ac6a-4677-b7a1-fe6af5540c64",
   "metadata": {},
   "source": [
    " 43. Remove duplicates from a list using sets"
   ]
  },
  {
   "cell_type": "code",
   "execution_count": 106,
   "id": "752214a0-06db-4ded-9af4-b2bfe9a6dbb0",
   "metadata": {},
   "outputs": [
    {
     "name": "stdout",
     "output_type": "stream",
     "text": [
      "Result: [1, 2, 4, 6, 7]\n"
     ]
    }
   ],
   "source": [
    "lst=[1,2,1,4,6,7,]\n",
    "set_lst=list(set(lst)) #this will remove duplicate with the help of set\n",
    "print(\"Result:\",set_lst)"
   ]
  },
  {
   "cell_type": "markdown",
   "id": "0534c89c-6f9f-40e4-8510-540ab9ba445e",
   "metadata": {},
   "source": [
    "44. Check if two sets have the same elements, regardless of their count."
   ]
  },
  {
   "cell_type": "code",
   "execution_count": 111,
   "id": "791032cd-f3ed-46f4-8886-c13f187c00c2",
   "metadata": {},
   "outputs": [
    {
     "name": "stdout",
     "output_type": "stream",
     "text": [
      "yes the set have same element\n"
     ]
    }
   ],
   "source": [
    "def same_elemnt(set1,set2):\n",
    "    set1=sorted(set1)\n",
    "    set2=sorted(set2)\n",
    "    if set1==set2:\n",
    "        print(\"yes the set have same element\")\n",
    "    else:\n",
    "        print(\"NO the set does not have same element\")\n",
    "\n",
    "set1={1,2,1,2,1,2,4,3}\n",
    "set2={1,2,3,4}\n",
    "same_elemnt(set1,set2)"
   ]
  },
  {
   "cell_type": "markdown",
   "id": "cd5c52fe-07b2-42c8-add7-6555c55adbea",
   "metadata": {},
   "source": [
    " 45. Create a set of the first `n` powers of 2"
   ]
  },
  {
   "cell_type": "code",
   "execution_count": 126,
   "id": "5920677d-e854-40e4-94bc-40df52254f33",
   "metadata": {},
   "outputs": [
    {
     "name": "stdin",
     "output_type": "stream",
     "text": [
      "enter number 5\n"
     ]
    },
    {
     "name": "stdout",
     "output_type": "stream",
     "text": [
      "Result: {1, 2, 4, 8, 16}\n"
     ]
    }
   ],
   "source": [
    "n=int(input('enter number'))\n",
    "power_of_2={2**i for i in range(n)}\n",
    "set_power=set(sorted(power_of_2))\n",
    "print('Result:',set_power)"
   ]
  },
  {
   "cell_type": "markdown",
   "id": "80b7292b-54d7-4caa-adf0-a16ca52518cb",
   "metadata": {},
   "source": [
    " 46. Find the common elements between a set and a list."
   ]
  },
  {
   "cell_type": "code",
   "execution_count": 133,
   "id": "04667631-0bc8-44b6-9a38-885488780b99",
   "metadata": {},
   "outputs": [
    {
     "name": "stdout",
     "output_type": "stream",
     "text": [
      "Common elements: [1, 2, 3, 4]\n"
     ]
    }
   ],
   "source": [
    "list_1=[1,2,3,5,4]\n",
    "set_1={1,2,6,7,4}\n",
    "common=[]\n",
    "for i in set1:\n",
    "    if i in list_1:\n",
    "        common.append(i)\n",
    "if common:\n",
    "    print(\"Common elements:\",common)\n",
    "else:\n",
    "    print(\"there is no common element found\")"
   ]
  },
  {
   "cell_type": "markdown",
   "id": "ffcf1ebc-46eb-4764-a691-1f509ed626ce",
   "metadata": {},
   "source": [
    " 47. Create a set of the first `n` triangular numbers."
   ]
  },
  {
   "cell_type": "code",
   "execution_count": 139,
   "id": "80a68fcc-55ab-474a-9d26-210e4216dbe0",
   "metadata": {},
   "outputs": [
    {
     "name": "stdin",
     "output_type": "stream",
     "text": [
      "enter a number 10\n"
     ]
    },
    {
     "name": "stdout",
     "output_type": "stream",
     "text": [
      "10  Triangular number: {1, 3, 36, 6, 10, 45, 15, 21, 55, 28}\n"
     ]
    }
   ],
   "source": [
    "n=int(input('enter a number'))\n",
    "Triangular_num={int(i*(i+1)/2) for i in range(1,n+1)}\n",
    "print(n,\" Triangular number:\",Triangular_num)"
   ]
  },
  {
   "cell_type": "markdown",
   "id": "b9d75bc5-bcae-4b50-a0f6-8aca316b397a",
   "metadata": {},
   "source": [
    " 48. Check if a set contains another set as a subset"
   ]
  },
  {
   "cell_type": "code",
   "execution_count": 142,
   "id": "18d5447b-6030-43a7-837b-2052fc0d3218",
   "metadata": {},
   "outputs": [
    {
     "name": "stdout",
     "output_type": "stream",
     "text": [
      "Yes set contains another set as a subset\n"
     ]
    }
   ],
   "source": [
    "set1={1,2,3,4}\n",
    "set2={3,4}\n",
    "check_subset=set2.issubset(set1)\n",
    "if check_subset:\n",
    "    print(\"Yes set contains another set as a subset\")\n",
    "else:\n",
    "    print(\"NO set does not contains another set as a subset\")"
   ]
  },
  {
   "cell_type": "markdown",
   "id": "780c5f4b-ffcf-49c4-a20b-4a7e912789ed",
   "metadata": {},
   "source": [
    " 49. Create a set of alternating 1s and 0s of length `n`"
   ]
  },
  {
   "cell_type": "code",
   "execution_count": 152,
   "id": "926a2254-3f97-44dc-a96c-57e276d4a36d",
   "metadata": {},
   "outputs": [
    {
     "name": "stdin",
     "output_type": "stream",
     "text": [
      "enter value 5\n"
     ]
    },
    {
     "name": "stdout",
     "output_type": "stream",
     "text": [
      "Result: {0, 1}\n"
     ]
    }
   ],
   "source": [
    "n=int(input('enter value'))\n",
    "set_alternate={i%2 for i in range(n)}\n",
    "print(\"Result:\" ,set_alternate)"
   ]
  },
  {
   "cell_type": "markdown",
   "id": "01055a57-6e85-45ea-9049-2a2204acb56e",
   "metadata": {},
   "source": [
    " 50. Merge multiple sets into one."
   ]
  },
  {
   "cell_type": "code",
   "execution_count": 153,
   "id": "56aaef7c-df63-494d-a64e-5059a7d4f6c6",
   "metadata": {},
   "outputs": [
    {
     "name": "stdout",
     "output_type": "stream",
     "text": [
      "Merge Set: {0, 1, 2, 3, 4, 5, 6, 7, 8, 9, 10}\n"
     ]
    }
   ],
   "source": [
    "a={1,2,3}\n",
    "b={4,5,6,7}\n",
    "c={8,9,0,10}\n",
    "merge_set=a.union(b,c)\n",
    "print(\"Merge Set:\",merge_set)"
   ]
  },
  {
   "cell_type": "code",
   "execution_count": null,
   "id": "851beaf9-9b08-405d-87bd-58b50e3218d0",
   "metadata": {},
   "outputs": [],
   "source": []
  },
  {
   "cell_type": "code",
   "execution_count": null,
   "id": "4d7d9df1-b010-4828-acf3-dbb25230e900",
   "metadata": {},
   "outputs": [],
   "source": []
  },
  {
   "cell_type": "code",
   "execution_count": null,
   "id": "aceb9359-0893-49e7-91da-2d2c68ca2320",
   "metadata": {},
   "outputs": [],
   "source": []
  },
  {
   "cell_type": "code",
   "execution_count": null,
   "id": "e665482d-7258-4583-82b7-6a5380c23451",
   "metadata": {},
   "outputs": [],
   "source": []
  }
 ],
 "metadata": {
  "kernelspec": {
   "display_name": "Python 3 (ipykernel)",
   "language": "python",
   "name": "python3"
  },
  "language_info": {
   "codemirror_mode": {
    "name": "ipython",
    "version": 3
   },
   "file_extension": ".py",
   "mimetype": "text/x-python",
   "name": "python",
   "nbconvert_exporter": "python",
   "pygments_lexer": "ipython3",
   "version": "3.12.3"
  }
 },
 "nbformat": 4,
 "nbformat_minor": 5
}
